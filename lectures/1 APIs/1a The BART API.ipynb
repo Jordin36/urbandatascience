{
 "cells": [
  {
   "cell_type": "markdown",
   "id": "coated-diving",
   "metadata": {
    "slideshow": {
     "slide_type": "slide"
    }
   },
   "source": [
    "# Module 1. Application programming interfaces: APIs\n",
    "# The BART API"
   ]
  },
  {
   "cell_type": "markdown",
   "id": "familiar-professor",
   "metadata": {
    "slideshow": {
     "slide_type": "fragment"
    },
    "tags": []
   },
   "source": [
    "## Lecture objectives\n",
    "\n",
    "1. Demonstrate different ways to access data via an API\n",
    "2. Introduce the `requests` library \n",
    "3. Show how to parse JSON data"
   ]
  },
  {
   "cell_type": "markdown",
   "id": "lesbian-infection",
   "metadata": {
    "slideshow": {
     "slide_type": "fragment"
    }
   },
   "source": [
    "One way to get data is to download it manually from a website. You might click through a series of links and then save a `.csv` or similar file to your hard drive.\n",
    "\n",
    "Another way is through an Application Programming Interface (API). These APIs make it possible to request just the data that you are interested in. Sometimes, this data is static—it will be the same each time you request it. The U.S. Census is a good example. Other APIs are dynamic—for example, bus and train arrival times."
   ]
  },
  {
   "cell_type": "markdown",
   "id": "parallel-stephen",
   "metadata": {
    "slideshow": {
     "slide_type": "slide"
    }
   },
   "source": [
    "## Example: BART\n",
    "Many APIs return a format known as JSON. While it seems complicated, it's relatively easy to work with because it's highly structured.\n",
    "\n",
    "BART provides its [API documentation here](https://api.bart.gov/docs/overview/index.aspx).\n",
    "\n",
    "How do we get data from the API into Python? The `requests` library is the key to unlocking many interactions with the web.\n",
    "\n",
    "Let's get the real-time departures from 12th St Oakland City Center station. According to the [documentation](https://api.bart.gov/docs/etd/etd.aspx), we need to pass `orig=12TH`. We can also pass `json=y` to return the results in JSON format.\n",
    "\n",
    "Most APIs, including that of BART, require a \"key\" that identifies you to the developer. For serious usage, you'd request your own key. But for experimentation, BART provides a key that anyone can use. \n",
    "\n",
    "So how do we construct the request? We simply build a string that contains all of these commands, following the example in the documentation. Then we pass that string to `requests.get()`."
   ]
  },
  {
   "cell_type": "code",
   "execution_count": 1,
   "id": "color-keeping",
   "metadata": {
    "slideshow": {
     "slide_type": "fragment"
    }
   },
   "outputs": [],
   "source": [
    "import requests\n",
    "\n",
    "APIkey = 'MW9S-E7SL-26DU-VV8V'  # the key posted on BART's website\n",
    "requestString = 'http://api.bart.gov/api/etd.aspx?cmd=etd&orig=12TH&json=y&key='+APIkey\n",
    "\n",
    "r = requests.get(requestString)"
   ]
  },
  {
   "cell_type": "markdown",
   "id": "manual-driving",
   "metadata": {
    "slideshow": {
     "slide_type": "fragment"
    }
   },
   "source": [
    "Here, we've made a request to the BART API, and stored the response in the `r` object. \n",
    "\n",
    "Let's see what the `r` object includes. Use `r.` and the `tab` autocomplete in Jupyter Notebook to see the different attributes. Or you can call the help function."
   ]
  },
  {
   "cell_type": "code",
   "execution_count": 5,
   "id": "f4973bf6",
   "metadata": {},
   "outputs": [
    {
     "name": "stdout",
     "output_type": "stream",
     "text": [
      "Help on Response in module requests.models object:\n",
      "\n",
      "class Response(builtins.object)\n",
      " |  The :class:`Response <Response>` object, which contains a\n",
      " |  server's response to an HTTP request.\n",
      " |  \n",
      " |  Methods defined here:\n",
      " |  \n",
      " |  __bool__(self)\n",
      " |      Returns True if :attr:`status_code` is less than 400.\n",
      " |      \n",
      " |      This attribute checks if the status code of the response is between\n",
      " |      400 and 600 to see if there was a client error or a server error. If\n",
      " |      the status code, is between 200 and 400, this will return True. This\n",
      " |      is **not** a check to see if the response code is ``200 OK``.\n",
      " |  \n",
      " |  __enter__(self)\n",
      " |  \n",
      " |  __exit__(self, *args)\n",
      " |  \n",
      " |  __getstate__(self)\n",
      " |  \n",
      " |  __init__(self)\n",
      " |      Initialize self.  See help(type(self)) for accurate signature.\n",
      " |  \n",
      " |  __iter__(self)\n",
      " |      Allows you to use a response as an iterator.\n",
      " |  \n",
      " |  __nonzero__(self)\n",
      " |      Returns True if :attr:`status_code` is less than 400.\n",
      " |      \n",
      " |      This attribute checks if the status code of the response is between\n",
      " |      400 and 600 to see if there was a client error or a server error. If\n",
      " |      the status code, is between 200 and 400, this will return True. This\n",
      " |      is **not** a check to see if the response code is ``200 OK``.\n",
      " |  \n",
      " |  __repr__(self)\n",
      " |      Return repr(self).\n",
      " |  \n",
      " |  __setstate__(self, state)\n",
      " |  \n",
      " |  close(self)\n",
      " |      Releases the connection back to the pool. Once this method has been\n",
      " |      called the underlying ``raw`` object must not be accessed again.\n",
      " |      \n",
      " |      *Note: Should not normally need to be called explicitly.*\n",
      " |  \n",
      " |  iter_content(self, chunk_size=1, decode_unicode=False)\n",
      " |      Iterates over the response data.  When stream=True is set on the\n",
      " |      request, this avoids reading the content at once into memory for\n",
      " |      large responses.  The chunk size is the number of bytes it should\n",
      " |      read into memory.  This is not necessarily the length of each item\n",
      " |      returned as decoding can take place.\n",
      " |      \n",
      " |      chunk_size must be of type int or None. A value of None will\n",
      " |      function differently depending on the value of `stream`.\n",
      " |      stream=True will read data as it arrives in whatever size the\n",
      " |      chunks are received. If stream=False, data is returned as\n",
      " |      a single chunk.\n",
      " |      \n",
      " |      If decode_unicode is True, content will be decoded using the best\n",
      " |      available encoding based on the response.\n",
      " |  \n",
      " |  iter_lines(self, chunk_size=512, decode_unicode=False, delimiter=None)\n",
      " |      Iterates over the response data, one line at a time.  When\n",
      " |      stream=True is set on the request, this avoids reading the\n",
      " |      content at once into memory for large responses.\n",
      " |      \n",
      " |      .. note:: This method is not reentrant safe.\n",
      " |  \n",
      " |  json(self, **kwargs)\n",
      " |      Returns the json-encoded content of a response, if any.\n",
      " |      \n",
      " |      :param \\*\\*kwargs: Optional arguments that ``json.loads`` takes.\n",
      " |      :raises requests.exceptions.JSONDecodeError: If the response body does not\n",
      " |          contain valid json.\n",
      " |  \n",
      " |  raise_for_status(self)\n",
      " |      Raises :class:`HTTPError`, if one occurred.\n",
      " |  \n",
      " |  ----------------------------------------------------------------------\n",
      " |  Readonly properties defined here:\n",
      " |  \n",
      " |  apparent_encoding\n",
      " |      The apparent encoding, provided by the charset_normalizer or chardet libraries.\n",
      " |  \n",
      " |  content\n",
      " |      Content of the response, in bytes.\n",
      " |  \n",
      " |  is_permanent_redirect\n",
      " |      True if this Response one of the permanent versions of redirect.\n",
      " |  \n",
      " |  is_redirect\n",
      " |      True if this Response is a well-formed HTTP redirect that could have\n",
      " |      been processed automatically (by :meth:`Session.resolve_redirects`).\n",
      " |  \n",
      " |  links\n",
      " |      Returns the parsed header links of the response, if any.\n",
      " |  \n",
      " |  next\n",
      " |      Returns a PreparedRequest for the next request in a redirect chain, if there is one.\n",
      " |  \n",
      " |  ok\n",
      " |      Returns True if :attr:`status_code` is less than 400, False if not.\n",
      " |      \n",
      " |      This attribute checks if the status code of the response is between\n",
      " |      400 and 600 to see if there was a client error or a server error. If\n",
      " |      the status code is between 200 and 400, this will return True. This\n",
      " |      is **not** a check to see if the response code is ``200 OK``.\n",
      " |  \n",
      " |  text\n",
      " |      Content of the response, in unicode.\n",
      " |      \n",
      " |      If Response.encoding is None, encoding will be guessed using\n",
      " |      ``charset_normalizer`` or ``chardet``.\n",
      " |      \n",
      " |      The encoding of the response content is determined based solely on HTTP\n",
      " |      headers, following RFC 2616 to the letter. If you can take advantage of\n",
      " |      non-HTTP knowledge to make a better guess at the encoding, you should\n",
      " |      set ``r.encoding`` appropriately before accessing this property.\n",
      " |  \n",
      " |  ----------------------------------------------------------------------\n",
      " |  Data descriptors defined here:\n",
      " |  \n",
      " |  __dict__\n",
      " |      dictionary for instance variables (if defined)\n",
      " |  \n",
      " |  __weakref__\n",
      " |      list of weak references to the object (if defined)\n",
      " |  \n",
      " |  ----------------------------------------------------------------------\n",
      " |  Data and other attributes defined here:\n",
      " |  \n",
      " |  __attrs__ = ['_content', 'status_code', 'headers', 'url', 'history', '...\n",
      "\n"
     ]
    }
   ],
   "source": [
    "help(r)"
   ]
  },
  {
   "cell_type": "markdown",
   "id": "875801a5",
   "metadata": {},
   "source": [
    "One attribute is `ok`: did the request succeed?"
   ]
  },
  {
   "cell_type": "code",
   "execution_count": 6,
   "id": "unexpected-sensitivity",
   "metadata": {},
   "outputs": [
    {
     "name": "stdout",
     "output_type": "stream",
     "text": [
      "True\n"
     ]
    }
   ],
   "source": [
    "print(r.ok)"
   ]
  },
  {
   "cell_type": "markdown",
   "id": "0583cb59",
   "metadata": {},
   "source": [
    "The `text` attribute shows the text that was returned."
   ]
  },
  {
   "cell_type": "code",
   "execution_count": 7,
   "id": "equivalent-southwest",
   "metadata": {},
   "outputs": [
    {
     "name": "stdout",
     "output_type": "stream",
     "text": [
      "{\"?xml\":{\"@version\":\"1.0\",\"@encoding\":\"utf-8\"},\"root\":{\"@id\":\"1\",\"uri\":{\"#cdata-section\":\"http://api.bart.gov/api/etd.aspx?cmd=etd&orig=12TH&json=y\"},\"date\":\"11/27/2024\",\"time\":\"11:18:47 AM PST\",\"station\":[{\"name\":\"12th St. Oakland City Center\",\"abbr\":\"12TH\",\"etd\":[{\"destination\":\"Berryessa\",\"abbreviation\":\"BERY\",\"limited\":\"0\",\"estimate\":[{\"minutes\":\"11\",\"platform\":\"2\",\"direction\":\"South\",\"length\":\"6\",\"color\":\"ORANGE\",\"hexcolor\":\"#ff9933\",\"bikeflag\":\"1\",\"delay\":\"0\",\"cancelflag\":\"0\",\"dynamicflag\":\"0\"},{\"minutes\":\"31\",\"platform\":\"2\",\"direction\":\"South\",\"length\":\"6\",\"color\":\"ORANGE\",\"hexcolor\":\"#ff9933\",\"bikeflag\":\"1\",\"delay\":\"0\",\"cancelflag\":\"0\",\"dynamicflag\":\"0\"},{\"minutes\":\"51\",\"platform\":\"2\",\"direction\":\"South\",\"length\":\"6\",\"color\":\"ORANGE\",\"hexcolor\":\"#ff9933\",\"bikeflag\":\"1\",\"delay\":\"0\",\"cancelflag\":\"0\",\"dynamicflag\":\"0\"}]},{\"destination\":\"Millbrae\",\"abbreviation\":\"MLBR\",\"limited\":\"0\",\"estimate\":[{\"minutes\":\"16\",\"platform\":\"2\",\"direction\":\"South\",\"length\":\"6\",\"color\":\"RED\",\"hexcolor\":\"#ff0000\",\"bikeflag\":\"1\",\"delay\":\"0\",\"cancelflag\":\"0\",\"dynamicflag\":\"0\"},{\"minutes\":\"36\",\"platform\":\"2\",\"direction\":\"South\",\"length\":\"6\",\"color\":\"RED\",\"hexcolor\":\"#ff0000\",\"bikeflag\":\"1\",\"delay\":\"0\",\"cancelflag\":\"0\",\"dynamicflag\":\"0\"},{\"minutes\":\"56\",\"platform\":\"2\",\"direction\":\"South\",\"length\":\"6\",\"color\":\"RED\",\"hexcolor\":\"#ff0000\",\"bikeflag\":\"1\",\"delay\":\"0\",\"cancelflag\":\"0\",\"dynamicflag\":\"0\"}]},{\"destination\":\"Pittsburg/Bay Point\",\"abbreviation\":\"PITT\",\"limited\":\"0\",\"estimate\":[{\"minutes\":\"3\",\"platform\":\"3\",\"direction\":\"North\",\"length\":\"8\",\"color\":\"YELLOW\",\"hexcolor\":\"#ffff33\",\"bikeflag\":\"1\",\"delay\":\"0\",\"cancelflag\":\"0\",\"dynamicflag\":\"0\"},{\"minutes\":\"22\",\"platform\":\"3\",\"direction\":\"North\",\"length\":\"8\",\"color\":\"YELLOW\",\"hexcolor\":\"#ffff33\",\"bikeflag\":\"1\",\"delay\":\"0\",\"cancelflag\":\"0\",\"dynamicflag\":\"0\"},{\"minutes\":\"42\",\"platform\":\"3\",\"direction\":\"North\",\"length\":\"8\",\"color\":\"YELLOW\",\"hexcolor\":\"#ffff33\",\"bikeflag\":\"1\",\"delay\":\"0\",\"cancelflag\":\"0\",\"dynamicflag\":\"0\"}]},{\"destination\":\"Richmond\",\"abbreviation\":\"RICH\",\"limited\":\"0\",\"estimate\":[{\"minutes\":\"5\",\"platform\":\"1\",\"direction\":\"North\",\"length\":\"6\",\"color\":\"RED\",\"hexcolor\":\"#ff0000\",\"bikeflag\":\"1\",\"delay\":\"378\",\"cancelflag\":\"0\",\"dynamicflag\":\"0\"},{\"minutes\":\"11\",\"platform\":\"1\",\"direction\":\"North\",\"length\":\"6\",\"color\":\"ORANGE\",\"hexcolor\":\"#ff9933\",\"bikeflag\":\"1\",\"delay\":\"0\",\"cancelflag\":\"0\",\"dynamicflag\":\"0\"},{\"minutes\":\"19\",\"platform\":\"1\",\"direction\":\"North\",\"length\":\"6\",\"color\":\"RED\",\"hexcolor\":\"#ff0000\",\"bikeflag\":\"1\",\"delay\":\"0\",\"cancelflag\":\"0\",\"dynamicflag\":\"0\"}]},{\"destination\":\"SF Airport\",\"abbreviation\":\"SFIA\",\"limited\":\"0\",\"estimate\":[{\"minutes\":\"Leaving\",\"platform\":\"2\",\"direction\":\"South\",\"length\":\"8\",\"color\":\"YELLOW\",\"hexcolor\":\"#ffff33\",\"bikeflag\":\"1\",\"delay\":\"0\",\"cancelflag\":\"0\",\"dynamicflag\":\"0\"},{\"minutes\":\"9\",\"platform\":\"2\",\"direction\":\"South\",\"length\":\"8\",\"color\":\"YELLOW\",\"hexcolor\":\"#ffff33\",\"bikeflag\":\"1\",\"delay\":\"0\",\"cancelflag\":\"0\",\"dynamicflag\":\"0\"},{\"minutes\":\"21\",\"platform\":\"2\",\"direction\":\"South\",\"length\":\"8\",\"color\":\"YELLOW\",\"hexcolor\":\"#ffff33\",\"bikeflag\":\"1\",\"delay\":\"0\",\"cancelflag\":\"0\",\"dynamicflag\":\"0\"}]}]}],\"message\":\"\"}}\n"
     ]
    }
   ],
   "source": [
    "print(r.text)"
   ]
  },
  {
   "cell_type": "markdown",
   "id": "coupled-trick",
   "metadata": {},
   "source": [
    "This looks promising. But how can we get this into a more usable form? The `json` module is the key. It's built-in to Python so you don't have to install anything."
   ]
  },
  {
   "cell_type": "code",
   "execution_count": 8,
   "id": "atmospheric-smith",
   "metadata": {},
   "outputs": [],
   "source": [
    "import json"
   ]
  },
  {
   "cell_type": "code",
   "execution_count": 9,
   "id": "superior-seventh",
   "metadata": {},
   "outputs": [
    {
     "name": "stdout",
     "output_type": "stream",
     "text": [
      "<class 'dict'>\n"
     ]
    }
   ],
   "source": [
    "# json.loads() will turn the JSON object into a dictionary\n",
    "d = json.loads(r.text)\n",
    "print(type(d))"
   ]
  },
  {
   "cell_type": "markdown",
   "id": "bf0e430a",
   "metadata": {},
   "source": [
    "<div class=\"alert alert-block alert-info\">\n",
    "<strong>Exercise:</strong> How can you access the relevant contents of the dictionary? Hint: First, look at the keys.\n",
    "</div>"
   ]
  },
  {
   "cell_type": "code",
   "execution_count": null,
   "id": "spiritual-pursuit",
   "metadata": {},
   "outputs": [
    {
     "name": "stdout",
     "output_type": "stream",
     "text": [
      "dict_keys(['?xml', 'root'])\n",
      "{'@id': '1', 'uri': {'#cdata-section': 'http://api.bart.gov/api/etd.aspx?cmd=etd&orig=12TH&json=y'}, 'date': '11/27/2024', 'time': '11:18:47 AM PST', 'station': [{'name': '12th St. Oakland City Center', 'abbr': '12TH', 'etd': [{'destination': 'Berryessa', 'abbreviation': 'BERY', 'limited': '0', 'estimate': [{'minutes': '11', 'platform': '2', 'direction': 'South', 'length': '6', 'color': 'ORANGE', 'hexcolor': '#ff9933', 'bikeflag': '1', 'delay': '0', 'cancelflag': '0', 'dynamicflag': '0'}, {'minutes': '31', 'platform': '2', 'direction': 'South', 'length': '6', 'color': 'ORANGE', 'hexcolor': '#ff9933', 'bikeflag': '1', 'delay': '0', 'cancelflag': '0', 'dynamicflag': '0'}, {'minutes': '51', 'platform': '2', 'direction': 'South', 'length': '6', 'color': 'ORANGE', 'hexcolor': '#ff9933', 'bikeflag': '1', 'delay': '0', 'cancelflag': '0', 'dynamicflag': '0'}]}, {'destination': 'Millbrae', 'abbreviation': 'MLBR', 'limited': '0', 'estimate': [{'minutes': '16', 'platform': '2', 'direction': 'South', 'length': '6', 'color': 'RED', 'hexcolor': '#ff0000', 'bikeflag': '1', 'delay': '0', 'cancelflag': '0', 'dynamicflag': '0'}, {'minutes': '36', 'platform': '2', 'direction': 'South', 'length': '6', 'color': 'RED', 'hexcolor': '#ff0000', 'bikeflag': '1', 'delay': '0', 'cancelflag': '0', 'dynamicflag': '0'}, {'minutes': '56', 'platform': '2', 'direction': 'South', 'length': '6', 'color': 'RED', 'hexcolor': '#ff0000', 'bikeflag': '1', 'delay': '0', 'cancelflag': '0', 'dynamicflag': '0'}]}, {'destination': 'Pittsburg/Bay Point', 'abbreviation': 'PITT', 'limited': '0', 'estimate': [{'minutes': '3', 'platform': '3', 'direction': 'North', 'length': '8', 'color': 'YELLOW', 'hexcolor': '#ffff33', 'bikeflag': '1', 'delay': '0', 'cancelflag': '0', 'dynamicflag': '0'}, {'minutes': '22', 'platform': '3', 'direction': 'North', 'length': '8', 'color': 'YELLOW', 'hexcolor': '#ffff33', 'bikeflag': '1', 'delay': '0', 'cancelflag': '0', 'dynamicflag': '0'}, {'minutes': '42', 'platform': '3', 'direction': 'North', 'length': '8', 'color': 'YELLOW', 'hexcolor': '#ffff33', 'bikeflag': '1', 'delay': '0', 'cancelflag': '0', 'dynamicflag': '0'}]}, {'destination': 'Richmond', 'abbreviation': 'RICH', 'limited': '0', 'estimate': [{'minutes': '5', 'platform': '1', 'direction': 'North', 'length': '6', 'color': 'RED', 'hexcolor': '#ff0000', 'bikeflag': '1', 'delay': '378', 'cancelflag': '0', 'dynamicflag': '0'}, {'minutes': '11', 'platform': '1', 'direction': 'North', 'length': '6', 'color': 'ORANGE', 'hexcolor': '#ff9933', 'bikeflag': '1', 'delay': '0', 'cancelflag': '0', 'dynamicflag': '0'}, {'minutes': '19', 'platform': '1', 'direction': 'North', 'length': '6', 'color': 'RED', 'hexcolor': '#ff0000', 'bikeflag': '1', 'delay': '0', 'cancelflag': '0', 'dynamicflag': '0'}]}, {'destination': 'SF Airport', 'abbreviation': 'SFIA', 'limited': '0', 'estimate': [{'minutes': 'Leaving', 'platform': '2', 'direction': 'South', 'length': '8', 'color': 'YELLOW', 'hexcolor': '#ffff33', 'bikeflag': '1', 'delay': '0', 'cancelflag': '0', 'dynamicflag': '0'}, {'minutes': '9', 'platform': '2', 'direction': 'South', 'length': '8', 'color': 'YELLOW', 'hexcolor': '#ffff33', 'bikeflag': '1', 'delay': '0', 'cancelflag': '0', 'dynamicflag': '0'}, {'minutes': '21', 'platform': '2', 'direction': 'South', 'length': '8', 'color': 'YELLOW', 'hexcolor': '#ffff33', 'bikeflag': '1', 'delay': '0', 'cancelflag': '0', 'dynamicflag': '0'}]}]}], 'message': ''}\n",
      "{'@version': '1.0', '@encoding': 'utf-8'}\n"
     ]
    }
   ],
   "source": [
    "# remember, a dictionary is a collection of keys and values\n",
    "# here looks like there are two keys, called ?xml and root\n",
    "# let's look at the root item\n",
    "print(d.keys())\n",
    "print(d['root']) # This is all your good shit\n",
    "print(d[\"?xml\"]) # This is just metadata"
   ]
  },
  {
   "cell_type": "code",
   "execution_count": 13,
   "id": "indoor-refund",
   "metadata": {},
   "outputs": [
    {
     "name": "stdout",
     "output_type": "stream",
     "text": [
      "dict_keys(['@id', 'uri', 'date', 'time', 'station', 'message'])\n"
     ]
    }
   ],
   "source": [
    "# and in turn, 'root' is another dictionary. You could also have seen this because of the curly brackets { }  \n",
    "print(d['root'].keys())"
   ]
  },
  {
   "cell_type": "markdown",
   "id": "protective-couple",
   "metadata": {},
   "source": [
    "The \"station\" item seems to hold most of the useful information. \n",
    "\n",
    "It's a list."
   ]
  },
  {
   "cell_type": "code",
   "execution_count": 14,
   "id": "ca4be59b",
   "metadata": {},
   "outputs": [
    {
     "name": "stdout",
     "output_type": "stream",
     "text": [
      "<class 'list'>\n"
     ]
    }
   ],
   "source": [
    "print(type(d['root']['station']))"
   ]
  },
  {
   "cell_type": "markdown",
   "id": "2efa96c3",
   "metadata": {},
   "source": [
    "Of length 1"
   ]
  },
  {
   "cell_type": "code",
   "execution_count": 15,
   "id": "67f306ab",
   "metadata": {},
   "outputs": [
    {
     "name": "stdout",
     "output_type": "stream",
     "text": [
      "1\n"
     ]
    }
   ],
   "source": [
    "print(len(d['root']['station']))"
   ]
  },
  {
   "cell_type": "code",
   "execution_count": 16,
   "id": "d96377b5",
   "metadata": {},
   "outputs": [
    {
     "name": "stdout",
     "output_type": "stream",
     "text": [
      "{'name': '12th St. Oakland City Center', 'abbr': '12TH', 'etd': [{'destination': 'Berryessa', 'abbreviation': 'BERY', 'limited': '0', 'estimate': [{'minutes': '11', 'platform': '2', 'direction': 'South', 'length': '6', 'color': 'ORANGE', 'hexcolor': '#ff9933', 'bikeflag': '1', 'delay': '0', 'cancelflag': '0', 'dynamicflag': '0'}, {'minutes': '31', 'platform': '2', 'direction': 'South', 'length': '6', 'color': 'ORANGE', 'hexcolor': '#ff9933', 'bikeflag': '1', 'delay': '0', 'cancelflag': '0', 'dynamicflag': '0'}, {'minutes': '51', 'platform': '2', 'direction': 'South', 'length': '6', 'color': 'ORANGE', 'hexcolor': '#ff9933', 'bikeflag': '1', 'delay': '0', 'cancelflag': '0', 'dynamicflag': '0'}]}, {'destination': 'Millbrae', 'abbreviation': 'MLBR', 'limited': '0', 'estimate': [{'minutes': '16', 'platform': '2', 'direction': 'South', 'length': '6', 'color': 'RED', 'hexcolor': '#ff0000', 'bikeflag': '1', 'delay': '0', 'cancelflag': '0', 'dynamicflag': '0'}, {'minutes': '36', 'platform': '2', 'direction': 'South', 'length': '6', 'color': 'RED', 'hexcolor': '#ff0000', 'bikeflag': '1', 'delay': '0', 'cancelflag': '0', 'dynamicflag': '0'}, {'minutes': '56', 'platform': '2', 'direction': 'South', 'length': '6', 'color': 'RED', 'hexcolor': '#ff0000', 'bikeflag': '1', 'delay': '0', 'cancelflag': '0', 'dynamicflag': '0'}]}, {'destination': 'Pittsburg/Bay Point', 'abbreviation': 'PITT', 'limited': '0', 'estimate': [{'minutes': '3', 'platform': '3', 'direction': 'North', 'length': '8', 'color': 'YELLOW', 'hexcolor': '#ffff33', 'bikeflag': '1', 'delay': '0', 'cancelflag': '0', 'dynamicflag': '0'}, {'minutes': '22', 'platform': '3', 'direction': 'North', 'length': '8', 'color': 'YELLOW', 'hexcolor': '#ffff33', 'bikeflag': '1', 'delay': '0', 'cancelflag': '0', 'dynamicflag': '0'}, {'minutes': '42', 'platform': '3', 'direction': 'North', 'length': '8', 'color': 'YELLOW', 'hexcolor': '#ffff33', 'bikeflag': '1', 'delay': '0', 'cancelflag': '0', 'dynamicflag': '0'}]}, {'destination': 'Richmond', 'abbreviation': 'RICH', 'limited': '0', 'estimate': [{'minutes': '5', 'platform': '1', 'direction': 'North', 'length': '6', 'color': 'RED', 'hexcolor': '#ff0000', 'bikeflag': '1', 'delay': '378', 'cancelflag': '0', 'dynamicflag': '0'}, {'minutes': '11', 'platform': '1', 'direction': 'North', 'length': '6', 'color': 'ORANGE', 'hexcolor': '#ff9933', 'bikeflag': '1', 'delay': '0', 'cancelflag': '0', 'dynamicflag': '0'}, {'minutes': '19', 'platform': '1', 'direction': 'North', 'length': '6', 'color': 'RED', 'hexcolor': '#ff0000', 'bikeflag': '1', 'delay': '0', 'cancelflag': '0', 'dynamicflag': '0'}]}, {'destination': 'SF Airport', 'abbreviation': 'SFIA', 'limited': '0', 'estimate': [{'minutes': 'Leaving', 'platform': '2', 'direction': 'South', 'length': '8', 'color': 'YELLOW', 'hexcolor': '#ffff33', 'bikeflag': '1', 'delay': '0', 'cancelflag': '0', 'dynamicflag': '0'}, {'minutes': '9', 'platform': '2', 'direction': 'South', 'length': '8', 'color': 'YELLOW', 'hexcolor': '#ffff33', 'bikeflag': '1', 'delay': '0', 'cancelflag': '0', 'dynamicflag': '0'}, {'minutes': '21', 'platform': '2', 'direction': 'South', 'length': '8', 'color': 'YELLOW', 'hexcolor': '#ffff33', 'bikeflag': '1', 'delay': '0', 'cancelflag': '0', 'dynamicflag': '0'}]}]}\n"
     ]
    }
   ],
   "source": [
    "print(d['root']['station'][0])"
   ]
  },
  {
   "cell_type": "markdown",
   "id": "b8738169",
   "metadata": {},
   "source": [
    "And this is another dictionary! (You can tell by the curly brackets).\n",
    "\n",
    "Most of the information appears to be in `etd`, which is another list. "
   ]
  },
  {
   "cell_type": "code",
   "execution_count": 29,
   "id": "aa7113cb",
   "metadata": {},
   "outputs": [
    {
     "name": "stdout",
     "output_type": "stream",
     "text": [
      "{'destination': 'Berryessa', 'abbreviation': 'BERY', 'limited': '0', 'estimate': [{'minutes': '11', 'platform': '2', 'direction': 'South', 'length': '6', 'color': 'ORANGE', 'hexcolor': '#ff9933', 'bikeflag': '1', 'delay': '0', 'cancelflag': '0', 'dynamicflag': '0'}, {'minutes': '31', 'platform': '2', 'direction': 'South', 'length': '6', 'color': 'ORANGE', 'hexcolor': '#ff9933', 'bikeflag': '1', 'delay': '0', 'cancelflag': '0', 'dynamicflag': '0'}, {'minutes': '51', 'platform': '2', 'direction': 'South', 'length': '6', 'color': 'ORANGE', 'hexcolor': '#ff9933', 'bikeflag': '1', 'delay': '0', 'cancelflag': '0', 'dynamicflag': '0'}]}\n",
      "{'destination': 'Millbrae', 'abbreviation': 'MLBR', 'limited': '0', 'estimate': [{'minutes': '16', 'platform': '2', 'direction': 'South', 'length': '6', 'color': 'RED', 'hexcolor': '#ff0000', 'bikeflag': '1', 'delay': '0', 'cancelflag': '0', 'dynamicflag': '0'}, {'minutes': '36', 'platform': '2', 'direction': 'South', 'length': '6', 'color': 'RED', 'hexcolor': '#ff0000', 'bikeflag': '1', 'delay': '0', 'cancelflag': '0', 'dynamicflag': '0'}, {'minutes': '56', 'platform': '2', 'direction': 'South', 'length': '6', 'color': 'RED', 'hexcolor': '#ff0000', 'bikeflag': '1', 'delay': '0', 'cancelflag': '0', 'dynamicflag': '0'}]}\n",
      "{'destination': 'Pittsburg/Bay Point', 'abbreviation': 'PITT', 'limited': '0', 'estimate': [{'minutes': '3', 'platform': '3', 'direction': 'North', 'length': '8', 'color': 'YELLOW', 'hexcolor': '#ffff33', 'bikeflag': '1', 'delay': '0', 'cancelflag': '0', 'dynamicflag': '0'}, {'minutes': '22', 'platform': '3', 'direction': 'North', 'length': '8', 'color': 'YELLOW', 'hexcolor': '#ffff33', 'bikeflag': '1', 'delay': '0', 'cancelflag': '0', 'dynamicflag': '0'}, {'minutes': '42', 'platform': '3', 'direction': 'North', 'length': '8', 'color': 'YELLOW', 'hexcolor': '#ffff33', 'bikeflag': '1', 'delay': '0', 'cancelflag': '0', 'dynamicflag': '0'}]}\n",
      "{'destination': 'Richmond', 'abbreviation': 'RICH', 'limited': '0', 'estimate': [{'minutes': '5', 'platform': '1', 'direction': 'North', 'length': '6', 'color': 'RED', 'hexcolor': '#ff0000', 'bikeflag': '1', 'delay': '378', 'cancelflag': '0', 'dynamicflag': '0'}, {'minutes': '11', 'platform': '1', 'direction': 'North', 'length': '6', 'color': 'ORANGE', 'hexcolor': '#ff9933', 'bikeflag': '1', 'delay': '0', 'cancelflag': '0', 'dynamicflag': '0'}, {'minutes': '19', 'platform': '1', 'direction': 'North', 'length': '6', 'color': 'RED', 'hexcolor': '#ff0000', 'bikeflag': '1', 'delay': '0', 'cancelflag': '0', 'dynamicflag': '0'}]}\n",
      "{'destination': 'SF Airport', 'abbreviation': 'SFIA', 'limited': '0', 'estimate': [{'minutes': 'Leaving', 'platform': '2', 'direction': 'South', 'length': '8', 'color': 'YELLOW', 'hexcolor': '#ffff33', 'bikeflag': '1', 'delay': '0', 'cancelflag': '0', 'dynamicflag': '0'}, {'minutes': '9', 'platform': '2', 'direction': 'South', 'length': '8', 'color': 'YELLOW', 'hexcolor': '#ffff33', 'bikeflag': '1', 'delay': '0', 'cancelflag': '0', 'dynamicflag': '0'}, {'minutes': '21', 'platform': '2', 'direction': 'South', 'length': '8', 'color': 'YELLOW', 'hexcolor': '#ffff33', 'bikeflag': '1', 'delay': '0', 'cancelflag': '0', 'dynamicflag': '0'}]}\n"
     ]
    }
   ],
   "source": [
    "for i in d['root']['station'][0]['etd']:\n",
    "    print(i)"
   ]
  },
  {
   "cell_type": "markdown",
   "id": "6fcd26ff",
   "metadata": {},
   "source": [
    "Each element of the list appears to be a dictionary, giving details of trains to a particular destination. Let's simplify things by pulling this list out to a separate variable.\n",
    "\n",
    "The `destination` item is self explanatory. The `estimate` item is yet another list!"
   ]
  },
  {
   "cell_type": "code",
   "execution_count": 30,
   "id": "5cfeb00c",
   "metadata": {},
   "outputs": [
    {
     "name": "stdout",
     "output_type": "stream",
     "text": [
      "Berryessa\n",
      "[{'minutes': '11', 'platform': '2', 'direction': 'South', 'length': '6', 'color': 'ORANGE', 'hexcolor': '#ff9933', 'bikeflag': '1', 'delay': '0', 'cancelflag': '0', 'dynamicflag': '0'}, {'minutes': '31', 'platform': '2', 'direction': 'South', 'length': '6', 'color': 'ORANGE', 'hexcolor': '#ff9933', 'bikeflag': '1', 'delay': '0', 'cancelflag': '0', 'dynamicflag': '0'}, {'minutes': '51', 'platform': '2', 'direction': 'South', 'length': '6', 'color': 'ORANGE', 'hexcolor': '#ff9933', 'bikeflag': '1', 'delay': '0', 'cancelflag': '0', 'dynamicflag': '0'}]\n",
      "Millbrae\n",
      "[{'minutes': '16', 'platform': '2', 'direction': 'South', 'length': '6', 'color': 'RED', 'hexcolor': '#ff0000', 'bikeflag': '1', 'delay': '0', 'cancelflag': '0', 'dynamicflag': '0'}, {'minutes': '36', 'platform': '2', 'direction': 'South', 'length': '6', 'color': 'RED', 'hexcolor': '#ff0000', 'bikeflag': '1', 'delay': '0', 'cancelflag': '0', 'dynamicflag': '0'}, {'minutes': '56', 'platform': '2', 'direction': 'South', 'length': '6', 'color': 'RED', 'hexcolor': '#ff0000', 'bikeflag': '1', 'delay': '0', 'cancelflag': '0', 'dynamicflag': '0'}]\n"
     ]
    }
   ],
   "source": [
    "etd = d['root']['station'][0]['etd']\n",
    "\n",
    "print(etd[0]['destination'])\n",
    "print(etd[0]['estimate'])\n",
    "\n",
    "print(etd[1]['destination'])\n",
    "print(etd[1]['estimate'])"
   ]
  },
  {
   "cell_type": "markdown",
   "id": "c32655fc",
   "metadata": {},
   "source": [
    "We can print this more nicely using the `.format()` method for a string. The curly braces `{}` are placeholders for the items to be inserted."
   ]
  },
  {
   "cell_type": "code",
   "execution_count": 31,
   "id": "raised-jimmy",
   "metadata": {},
   "outputs": [
    {
     "name": "stdout",
     "output_type": "stream",
     "text": [
      "Train to Berryessa is arriving in 11 minutes\n"
     ]
    }
   ],
   "source": [
    "print('Train to {} is arriving in {} minutes'.format(etd[0]['destination'], etd[0]['estimate'][0]['minutes']))"
   ]
  },
  {
   "cell_type": "markdown",
   "id": "a556701f",
   "metadata": {},
   "source": [
    "To make this easier to work with, we can convert to a pandas `DataFrame`. This doesn't always work, but is worth a try."
   ]
  },
  {
   "cell_type": "code",
   "execution_count": 33,
   "id": "2b2d317c",
   "metadata": {},
   "outputs": [
    {
     "name": "stdout",
     "output_type": "stream",
     "text": [
      "[{'minutes': '11', 'platform': '2', 'direction': 'South', 'length': '6', 'color': 'ORANGE', 'hexcolor': '#ff9933', 'bikeflag': '1', 'delay': '0', 'cancelflag': '0', 'dynamicflag': '0'}, {'minutes': '31', 'platform': '2', 'direction': 'South', 'length': '6', 'color': 'ORANGE', 'hexcolor': '#ff9933', 'bikeflag': '1', 'delay': '0', 'cancelflag': '0', 'dynamicflag': '0'}, {'minutes': '51', 'platform': '2', 'direction': 'South', 'length': '6', 'color': 'ORANGE', 'hexcolor': '#ff9933', 'bikeflag': '1', 'delay': '0', 'cancelflag': '0', 'dynamicflag': '0'}]\n"
     ]
    }
   ],
   "source": [
    "print(etd[0]['estimate'])"
   ]
  },
  {
   "cell_type": "code",
   "execution_count": 32,
   "id": "offshore-crown",
   "metadata": {},
   "outputs": [
    {
     "data": {
      "text/html": [
       "<div>\n",
       "<style scoped>\n",
       "    .dataframe tbody tr th:only-of-type {\n",
       "        vertical-align: middle;\n",
       "    }\n",
       "\n",
       "    .dataframe tbody tr th {\n",
       "        vertical-align: top;\n",
       "    }\n",
       "\n",
       "    .dataframe thead th {\n",
       "        text-align: right;\n",
       "    }\n",
       "</style>\n",
       "<table border=\"1\" class=\"dataframe\">\n",
       "  <thead>\n",
       "    <tr style=\"text-align: right;\">\n",
       "      <th></th>\n",
       "      <th>minutes</th>\n",
       "      <th>platform</th>\n",
       "      <th>direction</th>\n",
       "      <th>length</th>\n",
       "      <th>color</th>\n",
       "      <th>hexcolor</th>\n",
       "      <th>bikeflag</th>\n",
       "      <th>delay</th>\n",
       "      <th>cancelflag</th>\n",
       "      <th>dynamicflag</th>\n",
       "    </tr>\n",
       "  </thead>\n",
       "  <tbody>\n",
       "    <tr>\n",
       "      <th>0</th>\n",
       "      <td>11</td>\n",
       "      <td>2</td>\n",
       "      <td>South</td>\n",
       "      <td>6</td>\n",
       "      <td>ORANGE</td>\n",
       "      <td>#ff9933</td>\n",
       "      <td>1</td>\n",
       "      <td>0</td>\n",
       "      <td>0</td>\n",
       "      <td>0</td>\n",
       "    </tr>\n",
       "    <tr>\n",
       "      <th>1</th>\n",
       "      <td>31</td>\n",
       "      <td>2</td>\n",
       "      <td>South</td>\n",
       "      <td>6</td>\n",
       "      <td>ORANGE</td>\n",
       "      <td>#ff9933</td>\n",
       "      <td>1</td>\n",
       "      <td>0</td>\n",
       "      <td>0</td>\n",
       "      <td>0</td>\n",
       "    </tr>\n",
       "    <tr>\n",
       "      <th>2</th>\n",
       "      <td>51</td>\n",
       "      <td>2</td>\n",
       "      <td>South</td>\n",
       "      <td>6</td>\n",
       "      <td>ORANGE</td>\n",
       "      <td>#ff9933</td>\n",
       "      <td>1</td>\n",
       "      <td>0</td>\n",
       "      <td>0</td>\n",
       "      <td>0</td>\n",
       "    </tr>\n",
       "  </tbody>\n",
       "</table>\n",
       "</div>"
      ],
      "text/plain": [
       "  minutes platform direction length   color hexcolor bikeflag delay  \\\n",
       "0      11        2     South      6  ORANGE  #ff9933        1     0   \n",
       "1      31        2     South      6  ORANGE  #ff9933        1     0   \n",
       "2      51        2     South      6  ORANGE  #ff9933        1     0   \n",
       "\n",
       "  cancelflag dynamicflag  \n",
       "0          0           0  \n",
       "1          0           0  \n",
       "2          0           0  "
      ]
     },
     "execution_count": 32,
     "metadata": {},
     "output_type": "execute_result"
    }
   ],
   "source": [
    "import pandas as pd\n",
    "df = pd.DataFrame(etd[0]['estimate'])\n",
    "df"
   ]
  },
  {
   "cell_type": "markdown",
   "id": "78e514ad",
   "metadata": {},
   "source": [
    "Note that this gave us only the trains to the first destination (contained in `etd[0]`). We'd have to loop over `etd` to get the other destinations.\n",
    "\n",
    "Here, we use `display` rather than `print` to format the output more nicely. [Here's an explanation](https://stackoverflow.com/questions/26873127/show-dataframe-as-table-in-ipython-notebook)."
   ]
  },
  {
   "cell_type": "code",
   "execution_count": 35,
   "id": "609752ef",
   "metadata": {},
   "outputs": [
    {
     "name": "stdout",
     "output_type": "stream",
     "text": [
      "\n",
      "Trains to Berryessa\n"
     ]
    },
    {
     "data": {
      "text/html": [
       "<div>\n",
       "<style scoped>\n",
       "    .dataframe tbody tr th:only-of-type {\n",
       "        vertical-align: middle;\n",
       "    }\n",
       "\n",
       "    .dataframe tbody tr th {\n",
       "        vertical-align: top;\n",
       "    }\n",
       "\n",
       "    .dataframe thead th {\n",
       "        text-align: right;\n",
       "    }\n",
       "</style>\n",
       "<table border=\"1\" class=\"dataframe\">\n",
       "  <thead>\n",
       "    <tr style=\"text-align: right;\">\n",
       "      <th></th>\n",
       "      <th>minutes</th>\n",
       "      <th>platform</th>\n",
       "      <th>direction</th>\n",
       "      <th>length</th>\n",
       "      <th>color</th>\n",
       "      <th>hexcolor</th>\n",
       "      <th>bikeflag</th>\n",
       "      <th>delay</th>\n",
       "      <th>cancelflag</th>\n",
       "      <th>dynamicflag</th>\n",
       "    </tr>\n",
       "  </thead>\n",
       "  <tbody>\n",
       "    <tr>\n",
       "      <th>0</th>\n",
       "      <td>11</td>\n",
       "      <td>2</td>\n",
       "      <td>South</td>\n",
       "      <td>6</td>\n",
       "      <td>ORANGE</td>\n",
       "      <td>#ff9933</td>\n",
       "      <td>1</td>\n",
       "      <td>0</td>\n",
       "      <td>0</td>\n",
       "      <td>0</td>\n",
       "    </tr>\n",
       "    <tr>\n",
       "      <th>1</th>\n",
       "      <td>31</td>\n",
       "      <td>2</td>\n",
       "      <td>South</td>\n",
       "      <td>6</td>\n",
       "      <td>ORANGE</td>\n",
       "      <td>#ff9933</td>\n",
       "      <td>1</td>\n",
       "      <td>0</td>\n",
       "      <td>0</td>\n",
       "      <td>0</td>\n",
       "    </tr>\n",
       "    <tr>\n",
       "      <th>2</th>\n",
       "      <td>51</td>\n",
       "      <td>2</td>\n",
       "      <td>South</td>\n",
       "      <td>6</td>\n",
       "      <td>ORANGE</td>\n",
       "      <td>#ff9933</td>\n",
       "      <td>1</td>\n",
       "      <td>0</td>\n",
       "      <td>0</td>\n",
       "      <td>0</td>\n",
       "    </tr>\n",
       "  </tbody>\n",
       "</table>\n",
       "</div>"
      ],
      "text/plain": [
       "  minutes platform direction length   color hexcolor bikeflag delay  \\\n",
       "0      11        2     South      6  ORANGE  #ff9933        1     0   \n",
       "1      31        2     South      6  ORANGE  #ff9933        1     0   \n",
       "2      51        2     South      6  ORANGE  #ff9933        1     0   \n",
       "\n",
       "  cancelflag dynamicflag  \n",
       "0          0           0  \n",
       "1          0           0  \n",
       "2          0           0  "
      ]
     },
     "metadata": {},
     "output_type": "display_data"
    },
    {
     "name": "stdout",
     "output_type": "stream",
     "text": [
      "\n",
      "Trains to Millbrae\n"
     ]
    },
    {
     "data": {
      "text/html": [
       "<div>\n",
       "<style scoped>\n",
       "    .dataframe tbody tr th:only-of-type {\n",
       "        vertical-align: middle;\n",
       "    }\n",
       "\n",
       "    .dataframe tbody tr th {\n",
       "        vertical-align: top;\n",
       "    }\n",
       "\n",
       "    .dataframe thead th {\n",
       "        text-align: right;\n",
       "    }\n",
       "</style>\n",
       "<table border=\"1\" class=\"dataframe\">\n",
       "  <thead>\n",
       "    <tr style=\"text-align: right;\">\n",
       "      <th></th>\n",
       "      <th>minutes</th>\n",
       "      <th>platform</th>\n",
       "      <th>direction</th>\n",
       "      <th>length</th>\n",
       "      <th>color</th>\n",
       "      <th>hexcolor</th>\n",
       "      <th>bikeflag</th>\n",
       "      <th>delay</th>\n",
       "      <th>cancelflag</th>\n",
       "      <th>dynamicflag</th>\n",
       "    </tr>\n",
       "  </thead>\n",
       "  <tbody>\n",
       "    <tr>\n",
       "      <th>0</th>\n",
       "      <td>16</td>\n",
       "      <td>2</td>\n",
       "      <td>South</td>\n",
       "      <td>6</td>\n",
       "      <td>RED</td>\n",
       "      <td>#ff0000</td>\n",
       "      <td>1</td>\n",
       "      <td>0</td>\n",
       "      <td>0</td>\n",
       "      <td>0</td>\n",
       "    </tr>\n",
       "    <tr>\n",
       "      <th>1</th>\n",
       "      <td>36</td>\n",
       "      <td>2</td>\n",
       "      <td>South</td>\n",
       "      <td>6</td>\n",
       "      <td>RED</td>\n",
       "      <td>#ff0000</td>\n",
       "      <td>1</td>\n",
       "      <td>0</td>\n",
       "      <td>0</td>\n",
       "      <td>0</td>\n",
       "    </tr>\n",
       "    <tr>\n",
       "      <th>2</th>\n",
       "      <td>56</td>\n",
       "      <td>2</td>\n",
       "      <td>South</td>\n",
       "      <td>6</td>\n",
       "      <td>RED</td>\n",
       "      <td>#ff0000</td>\n",
       "      <td>1</td>\n",
       "      <td>0</td>\n",
       "      <td>0</td>\n",
       "      <td>0</td>\n",
       "    </tr>\n",
       "  </tbody>\n",
       "</table>\n",
       "</div>"
      ],
      "text/plain": [
       "  minutes platform direction length color hexcolor bikeflag delay cancelflag  \\\n",
       "0      16        2     South      6   RED  #ff0000        1     0          0   \n",
       "1      36        2     South      6   RED  #ff0000        1     0          0   \n",
       "2      56        2     South      6   RED  #ff0000        1     0          0   \n",
       "\n",
       "  dynamicflag  \n",
       "0           0  \n",
       "1           0  \n",
       "2           0  "
      ]
     },
     "metadata": {},
     "output_type": "display_data"
    },
    {
     "name": "stdout",
     "output_type": "stream",
     "text": [
      "\n",
      "Trains to Pittsburg/Bay Point\n"
     ]
    },
    {
     "data": {
      "text/html": [
       "<div>\n",
       "<style scoped>\n",
       "    .dataframe tbody tr th:only-of-type {\n",
       "        vertical-align: middle;\n",
       "    }\n",
       "\n",
       "    .dataframe tbody tr th {\n",
       "        vertical-align: top;\n",
       "    }\n",
       "\n",
       "    .dataframe thead th {\n",
       "        text-align: right;\n",
       "    }\n",
       "</style>\n",
       "<table border=\"1\" class=\"dataframe\">\n",
       "  <thead>\n",
       "    <tr style=\"text-align: right;\">\n",
       "      <th></th>\n",
       "      <th>minutes</th>\n",
       "      <th>platform</th>\n",
       "      <th>direction</th>\n",
       "      <th>length</th>\n",
       "      <th>color</th>\n",
       "      <th>hexcolor</th>\n",
       "      <th>bikeflag</th>\n",
       "      <th>delay</th>\n",
       "      <th>cancelflag</th>\n",
       "      <th>dynamicflag</th>\n",
       "    </tr>\n",
       "  </thead>\n",
       "  <tbody>\n",
       "    <tr>\n",
       "      <th>0</th>\n",
       "      <td>3</td>\n",
       "      <td>3</td>\n",
       "      <td>North</td>\n",
       "      <td>8</td>\n",
       "      <td>YELLOW</td>\n",
       "      <td>#ffff33</td>\n",
       "      <td>1</td>\n",
       "      <td>0</td>\n",
       "      <td>0</td>\n",
       "      <td>0</td>\n",
       "    </tr>\n",
       "    <tr>\n",
       "      <th>1</th>\n",
       "      <td>22</td>\n",
       "      <td>3</td>\n",
       "      <td>North</td>\n",
       "      <td>8</td>\n",
       "      <td>YELLOW</td>\n",
       "      <td>#ffff33</td>\n",
       "      <td>1</td>\n",
       "      <td>0</td>\n",
       "      <td>0</td>\n",
       "      <td>0</td>\n",
       "    </tr>\n",
       "    <tr>\n",
       "      <th>2</th>\n",
       "      <td>42</td>\n",
       "      <td>3</td>\n",
       "      <td>North</td>\n",
       "      <td>8</td>\n",
       "      <td>YELLOW</td>\n",
       "      <td>#ffff33</td>\n",
       "      <td>1</td>\n",
       "      <td>0</td>\n",
       "      <td>0</td>\n",
       "      <td>0</td>\n",
       "    </tr>\n",
       "  </tbody>\n",
       "</table>\n",
       "</div>"
      ],
      "text/plain": [
       "  minutes platform direction length   color hexcolor bikeflag delay  \\\n",
       "0       3        3     North      8  YELLOW  #ffff33        1     0   \n",
       "1      22        3     North      8  YELLOW  #ffff33        1     0   \n",
       "2      42        3     North      8  YELLOW  #ffff33        1     0   \n",
       "\n",
       "  cancelflag dynamicflag  \n",
       "0          0           0  \n",
       "1          0           0  \n",
       "2          0           0  "
      ]
     },
     "metadata": {},
     "output_type": "display_data"
    },
    {
     "name": "stdout",
     "output_type": "stream",
     "text": [
      "\n",
      "Trains to Richmond\n"
     ]
    },
    {
     "data": {
      "text/html": [
       "<div>\n",
       "<style scoped>\n",
       "    .dataframe tbody tr th:only-of-type {\n",
       "        vertical-align: middle;\n",
       "    }\n",
       "\n",
       "    .dataframe tbody tr th {\n",
       "        vertical-align: top;\n",
       "    }\n",
       "\n",
       "    .dataframe thead th {\n",
       "        text-align: right;\n",
       "    }\n",
       "</style>\n",
       "<table border=\"1\" class=\"dataframe\">\n",
       "  <thead>\n",
       "    <tr style=\"text-align: right;\">\n",
       "      <th></th>\n",
       "      <th>minutes</th>\n",
       "      <th>platform</th>\n",
       "      <th>direction</th>\n",
       "      <th>length</th>\n",
       "      <th>color</th>\n",
       "      <th>hexcolor</th>\n",
       "      <th>bikeflag</th>\n",
       "      <th>delay</th>\n",
       "      <th>cancelflag</th>\n",
       "      <th>dynamicflag</th>\n",
       "    </tr>\n",
       "  </thead>\n",
       "  <tbody>\n",
       "    <tr>\n",
       "      <th>0</th>\n",
       "      <td>5</td>\n",
       "      <td>1</td>\n",
       "      <td>North</td>\n",
       "      <td>6</td>\n",
       "      <td>RED</td>\n",
       "      <td>#ff0000</td>\n",
       "      <td>1</td>\n",
       "      <td>378</td>\n",
       "      <td>0</td>\n",
       "      <td>0</td>\n",
       "    </tr>\n",
       "    <tr>\n",
       "      <th>1</th>\n",
       "      <td>11</td>\n",
       "      <td>1</td>\n",
       "      <td>North</td>\n",
       "      <td>6</td>\n",
       "      <td>ORANGE</td>\n",
       "      <td>#ff9933</td>\n",
       "      <td>1</td>\n",
       "      <td>0</td>\n",
       "      <td>0</td>\n",
       "      <td>0</td>\n",
       "    </tr>\n",
       "    <tr>\n",
       "      <th>2</th>\n",
       "      <td>19</td>\n",
       "      <td>1</td>\n",
       "      <td>North</td>\n",
       "      <td>6</td>\n",
       "      <td>RED</td>\n",
       "      <td>#ff0000</td>\n",
       "      <td>1</td>\n",
       "      <td>0</td>\n",
       "      <td>0</td>\n",
       "      <td>0</td>\n",
       "    </tr>\n",
       "  </tbody>\n",
       "</table>\n",
       "</div>"
      ],
      "text/plain": [
       "  minutes platform direction length   color hexcolor bikeflag delay  \\\n",
       "0       5        1     North      6     RED  #ff0000        1   378   \n",
       "1      11        1     North      6  ORANGE  #ff9933        1     0   \n",
       "2      19        1     North      6     RED  #ff0000        1     0   \n",
       "\n",
       "  cancelflag dynamicflag  \n",
       "0          0           0  \n",
       "1          0           0  \n",
       "2          0           0  "
      ]
     },
     "metadata": {},
     "output_type": "display_data"
    },
    {
     "name": "stdout",
     "output_type": "stream",
     "text": [
      "\n",
      "Trains to SF Airport\n"
     ]
    },
    {
     "data": {
      "text/html": [
       "<div>\n",
       "<style scoped>\n",
       "    .dataframe tbody tr th:only-of-type {\n",
       "        vertical-align: middle;\n",
       "    }\n",
       "\n",
       "    .dataframe tbody tr th {\n",
       "        vertical-align: top;\n",
       "    }\n",
       "\n",
       "    .dataframe thead th {\n",
       "        text-align: right;\n",
       "    }\n",
       "</style>\n",
       "<table border=\"1\" class=\"dataframe\">\n",
       "  <thead>\n",
       "    <tr style=\"text-align: right;\">\n",
       "      <th></th>\n",
       "      <th>minutes</th>\n",
       "      <th>platform</th>\n",
       "      <th>direction</th>\n",
       "      <th>length</th>\n",
       "      <th>color</th>\n",
       "      <th>hexcolor</th>\n",
       "      <th>bikeflag</th>\n",
       "      <th>delay</th>\n",
       "      <th>cancelflag</th>\n",
       "      <th>dynamicflag</th>\n",
       "    </tr>\n",
       "  </thead>\n",
       "  <tbody>\n",
       "    <tr>\n",
       "      <th>0</th>\n",
       "      <td>Leaving</td>\n",
       "      <td>2</td>\n",
       "      <td>South</td>\n",
       "      <td>8</td>\n",
       "      <td>YELLOW</td>\n",
       "      <td>#ffff33</td>\n",
       "      <td>1</td>\n",
       "      <td>0</td>\n",
       "      <td>0</td>\n",
       "      <td>0</td>\n",
       "    </tr>\n",
       "    <tr>\n",
       "      <th>1</th>\n",
       "      <td>9</td>\n",
       "      <td>2</td>\n",
       "      <td>South</td>\n",
       "      <td>8</td>\n",
       "      <td>YELLOW</td>\n",
       "      <td>#ffff33</td>\n",
       "      <td>1</td>\n",
       "      <td>0</td>\n",
       "      <td>0</td>\n",
       "      <td>0</td>\n",
       "    </tr>\n",
       "    <tr>\n",
       "      <th>2</th>\n",
       "      <td>21</td>\n",
       "      <td>2</td>\n",
       "      <td>South</td>\n",
       "      <td>8</td>\n",
       "      <td>YELLOW</td>\n",
       "      <td>#ffff33</td>\n",
       "      <td>1</td>\n",
       "      <td>0</td>\n",
       "      <td>0</td>\n",
       "      <td>0</td>\n",
       "    </tr>\n",
       "  </tbody>\n",
       "</table>\n",
       "</div>"
      ],
      "text/plain": [
       "   minutes platform direction length   color hexcolor bikeflag delay  \\\n",
       "0  Leaving        2     South      8  YELLOW  #ffff33        1     0   \n",
       "1        9        2     South      8  YELLOW  #ffff33        1     0   \n",
       "2       21        2     South      8  YELLOW  #ffff33        1     0   \n",
       "\n",
       "  cancelflag dynamicflag  \n",
       "0          0           0  \n",
       "1          0           0  \n",
       "2          0           0  "
      ]
     },
     "metadata": {},
     "output_type": "display_data"
    }
   ],
   "source": [
    "from IPython.display import display\n",
    "for e in etd:\n",
    "    print('\\nTrains to {}'.format(e['destination']))\n",
    "    display(pd.DataFrame(e['estimate']))"
   ]
  },
  {
   "cell_type": "markdown",
   "id": "404428ed",
   "metadata": {},
   "source": [
    "<div class=\"alert alert-block alert-info\">\n",
    "<strong>Exercise:</strong> How would you calculate the mean headway (time between trains)?\n",
    "</div>"
   ]
  },
  {
   "cell_type": "code",
   "execution_count": 47,
   "id": "e578c7a0",
   "metadata": {},
   "outputs": [
    {
     "data": {
      "text/plain": [
       "[{'minutes': '11',\n",
       "  'platform': '2',\n",
       "  'direction': 'South',\n",
       "  'length': '6',\n",
       "  'color': 'ORANGE',\n",
       "  'hexcolor': '#ff9933',\n",
       "  'bikeflag': '1',\n",
       "  'delay': '0',\n",
       "  'cancelflag': '0',\n",
       "  'dynamicflag': '0'},\n",
       " {'minutes': '31',\n",
       "  'platform': '2',\n",
       "  'direction': 'South',\n",
       "  'length': '6',\n",
       "  'color': 'ORANGE',\n",
       "  'hexcolor': '#ff9933',\n",
       "  'bikeflag': '1',\n",
       "  'delay': '0',\n",
       "  'cancelflag': '0',\n",
       "  'dynamicflag': '0'},\n",
       " {'minutes': '51',\n",
       "  'platform': '2',\n",
       "  'direction': 'South',\n",
       "  'length': '6',\n",
       "  'color': 'ORANGE',\n",
       "  'hexcolor': '#ff9933',\n",
       "  'bikeflag': '1',\n",
       "  'delay': '0',\n",
       "  'cancelflag': '0',\n",
       "  'dynamicflag': '0'}]"
      ]
     },
     "execution_count": 47,
     "metadata": {},
     "output_type": "execute_result"
    }
   ],
   "source": [
    "etd[0][\"estimate\"]"
   ]
  },
  {
   "cell_type": "code",
   "execution_count": null,
   "id": "d7f6a1f4",
   "metadata": {},
   "outputs": [
    {
     "name": "stdout",
     "output_type": "stream",
     "text": [
      "  minutes platform direction length   color hexcolor bikeflag delay  \\\n",
      "0      11        2     South      6  ORANGE  #ff9933        1     0   \n",
      "1      31        2     South      6  ORANGE  #ff9933        1     0   \n",
      "2      51        2     South      6  ORANGE  #ff9933        1     0   \n",
      "\n",
      "  cancelflag dynamicflag  \n",
      "0          0           0  \n",
      "1          0           0  \n",
      "2          0           0  \n"
     ]
    }
   ],
   "source": [
    "# Creates the dataframe dictionary\n",
    "dataframes = {}\n",
    "for i in etd: #For each dictionary in the etd list which contains dictionaries\n",
    "    destination = i[\"destination\"] #take the value for the desination key, which is just a string\n",
    "    estimates = i[\"estimate\"] #take the value for the estimate key, which is a list of dictionaries that we will make the dataframe from\n",
    "    df = pd.DataFrame(estimates)\n",
    "    dataframes[f\"df_{destination}\"] = df\n",
    "print(dataframes[\"df_Berryessa\"])"
   ]
  },
  {
   "cell_type": "code",
   "execution_count": 60,
   "id": "e5993e81",
   "metadata": {},
   "outputs": [],
   "source": [
    "for df in dataframes.values():\n",
    "    df.loc[df[\"minutes\"] == \"Leaving\", \"minutes\"] = 0"
   ]
  },
  {
   "cell_type": "code",
   "execution_count": 68,
   "id": "efe4cd53",
   "metadata": {},
   "outputs": [
    {
     "data": {
      "text/html": [
       "<div>\n",
       "<style scoped>\n",
       "    .dataframe tbody tr th:only-of-type {\n",
       "        vertical-align: middle;\n",
       "    }\n",
       "\n",
       "    .dataframe tbody tr th {\n",
       "        vertical-align: top;\n",
       "    }\n",
       "\n",
       "    .dataframe thead th {\n",
       "        text-align: right;\n",
       "    }\n",
       "</style>\n",
       "<table border=\"1\" class=\"dataframe\">\n",
       "  <thead>\n",
       "    <tr style=\"text-align: right;\">\n",
       "      <th></th>\n",
       "      <th>minutes</th>\n",
       "      <th>platform</th>\n",
       "      <th>direction</th>\n",
       "      <th>length</th>\n",
       "      <th>color</th>\n",
       "      <th>hexcolor</th>\n",
       "      <th>bikeflag</th>\n",
       "      <th>delay</th>\n",
       "      <th>cancelflag</th>\n",
       "      <th>dynamicflag</th>\n",
       "    </tr>\n",
       "  </thead>\n",
       "  <tbody>\n",
       "    <tr>\n",
       "      <th>0</th>\n",
       "      <td>11</td>\n",
       "      <td>2</td>\n",
       "      <td>South</td>\n",
       "      <td>6</td>\n",
       "      <td>ORANGE</td>\n",
       "      <td>#ff9933</td>\n",
       "      <td>1</td>\n",
       "      <td>0</td>\n",
       "      <td>0</td>\n",
       "      <td>0</td>\n",
       "    </tr>\n",
       "    <tr>\n",
       "      <th>1</th>\n",
       "      <td>31</td>\n",
       "      <td>2</td>\n",
       "      <td>South</td>\n",
       "      <td>6</td>\n",
       "      <td>ORANGE</td>\n",
       "      <td>#ff9933</td>\n",
       "      <td>1</td>\n",
       "      <td>0</td>\n",
       "      <td>0</td>\n",
       "      <td>0</td>\n",
       "    </tr>\n",
       "    <tr>\n",
       "      <th>2</th>\n",
       "      <td>51</td>\n",
       "      <td>2</td>\n",
       "      <td>South</td>\n",
       "      <td>6</td>\n",
       "      <td>ORANGE</td>\n",
       "      <td>#ff9933</td>\n",
       "      <td>1</td>\n",
       "      <td>0</td>\n",
       "      <td>0</td>\n",
       "      <td>0</td>\n",
       "    </tr>\n",
       "  </tbody>\n",
       "</table>\n",
       "</div>"
      ],
      "text/plain": [
       "  minutes platform direction length   color hexcolor bikeflag delay  \\\n",
       "0      11        2     South      6  ORANGE  #ff9933        1     0   \n",
       "1      31        2     South      6  ORANGE  #ff9933        1     0   \n",
       "2      51        2     South      6  ORANGE  #ff9933        1     0   \n",
       "\n",
       "  cancelflag dynamicflag  \n",
       "0          0           0  \n",
       "1          0           0  \n",
       "2          0           0  "
      ]
     },
     "metadata": {},
     "output_type": "display_data"
    },
    {
     "data": {
      "text/html": [
       "<div>\n",
       "<style scoped>\n",
       "    .dataframe tbody tr th:only-of-type {\n",
       "        vertical-align: middle;\n",
       "    }\n",
       "\n",
       "    .dataframe tbody tr th {\n",
       "        vertical-align: top;\n",
       "    }\n",
       "\n",
       "    .dataframe thead th {\n",
       "        text-align: right;\n",
       "    }\n",
       "</style>\n",
       "<table border=\"1\" class=\"dataframe\">\n",
       "  <thead>\n",
       "    <tr style=\"text-align: right;\">\n",
       "      <th></th>\n",
       "      <th>minutes</th>\n",
       "      <th>platform</th>\n",
       "      <th>direction</th>\n",
       "      <th>length</th>\n",
       "      <th>color</th>\n",
       "      <th>hexcolor</th>\n",
       "      <th>bikeflag</th>\n",
       "      <th>delay</th>\n",
       "      <th>cancelflag</th>\n",
       "      <th>dynamicflag</th>\n",
       "    </tr>\n",
       "  </thead>\n",
       "  <tbody>\n",
       "    <tr>\n",
       "      <th>0</th>\n",
       "      <td>16</td>\n",
       "      <td>2</td>\n",
       "      <td>South</td>\n",
       "      <td>6</td>\n",
       "      <td>RED</td>\n",
       "      <td>#ff0000</td>\n",
       "      <td>1</td>\n",
       "      <td>0</td>\n",
       "      <td>0</td>\n",
       "      <td>0</td>\n",
       "    </tr>\n",
       "    <tr>\n",
       "      <th>1</th>\n",
       "      <td>36</td>\n",
       "      <td>2</td>\n",
       "      <td>South</td>\n",
       "      <td>6</td>\n",
       "      <td>RED</td>\n",
       "      <td>#ff0000</td>\n",
       "      <td>1</td>\n",
       "      <td>0</td>\n",
       "      <td>0</td>\n",
       "      <td>0</td>\n",
       "    </tr>\n",
       "    <tr>\n",
       "      <th>2</th>\n",
       "      <td>56</td>\n",
       "      <td>2</td>\n",
       "      <td>South</td>\n",
       "      <td>6</td>\n",
       "      <td>RED</td>\n",
       "      <td>#ff0000</td>\n",
       "      <td>1</td>\n",
       "      <td>0</td>\n",
       "      <td>0</td>\n",
       "      <td>0</td>\n",
       "    </tr>\n",
       "  </tbody>\n",
       "</table>\n",
       "</div>"
      ],
      "text/plain": [
       "  minutes platform direction length color hexcolor bikeflag delay cancelflag  \\\n",
       "0      16        2     South      6   RED  #ff0000        1     0          0   \n",
       "1      36        2     South      6   RED  #ff0000        1     0          0   \n",
       "2      56        2     South      6   RED  #ff0000        1     0          0   \n",
       "\n",
       "  dynamicflag  \n",
       "0           0  \n",
       "1           0  \n",
       "2           0  "
      ]
     },
     "metadata": {},
     "output_type": "display_data"
    },
    {
     "data": {
      "text/html": [
       "<div>\n",
       "<style scoped>\n",
       "    .dataframe tbody tr th:only-of-type {\n",
       "        vertical-align: middle;\n",
       "    }\n",
       "\n",
       "    .dataframe tbody tr th {\n",
       "        vertical-align: top;\n",
       "    }\n",
       "\n",
       "    .dataframe thead th {\n",
       "        text-align: right;\n",
       "    }\n",
       "</style>\n",
       "<table border=\"1\" class=\"dataframe\">\n",
       "  <thead>\n",
       "    <tr style=\"text-align: right;\">\n",
       "      <th></th>\n",
       "      <th>minutes</th>\n",
       "      <th>platform</th>\n",
       "      <th>direction</th>\n",
       "      <th>length</th>\n",
       "      <th>color</th>\n",
       "      <th>hexcolor</th>\n",
       "      <th>bikeflag</th>\n",
       "      <th>delay</th>\n",
       "      <th>cancelflag</th>\n",
       "      <th>dynamicflag</th>\n",
       "    </tr>\n",
       "  </thead>\n",
       "  <tbody>\n",
       "    <tr>\n",
       "      <th>0</th>\n",
       "      <td>3</td>\n",
       "      <td>3</td>\n",
       "      <td>North</td>\n",
       "      <td>8</td>\n",
       "      <td>YELLOW</td>\n",
       "      <td>#ffff33</td>\n",
       "      <td>1</td>\n",
       "      <td>0</td>\n",
       "      <td>0</td>\n",
       "      <td>0</td>\n",
       "    </tr>\n",
       "    <tr>\n",
       "      <th>1</th>\n",
       "      <td>22</td>\n",
       "      <td>3</td>\n",
       "      <td>North</td>\n",
       "      <td>8</td>\n",
       "      <td>YELLOW</td>\n",
       "      <td>#ffff33</td>\n",
       "      <td>1</td>\n",
       "      <td>0</td>\n",
       "      <td>0</td>\n",
       "      <td>0</td>\n",
       "    </tr>\n",
       "    <tr>\n",
       "      <th>2</th>\n",
       "      <td>42</td>\n",
       "      <td>3</td>\n",
       "      <td>North</td>\n",
       "      <td>8</td>\n",
       "      <td>YELLOW</td>\n",
       "      <td>#ffff33</td>\n",
       "      <td>1</td>\n",
       "      <td>0</td>\n",
       "      <td>0</td>\n",
       "      <td>0</td>\n",
       "    </tr>\n",
       "  </tbody>\n",
       "</table>\n",
       "</div>"
      ],
      "text/plain": [
       "  minutes platform direction length   color hexcolor bikeflag delay  \\\n",
       "0       3        3     North      8  YELLOW  #ffff33        1     0   \n",
       "1      22        3     North      8  YELLOW  #ffff33        1     0   \n",
       "2      42        3     North      8  YELLOW  #ffff33        1     0   \n",
       "\n",
       "  cancelflag dynamicflag  \n",
       "0          0           0  \n",
       "1          0           0  \n",
       "2          0           0  "
      ]
     },
     "metadata": {},
     "output_type": "display_data"
    },
    {
     "data": {
      "text/html": [
       "<div>\n",
       "<style scoped>\n",
       "    .dataframe tbody tr th:only-of-type {\n",
       "        vertical-align: middle;\n",
       "    }\n",
       "\n",
       "    .dataframe tbody tr th {\n",
       "        vertical-align: top;\n",
       "    }\n",
       "\n",
       "    .dataframe thead th {\n",
       "        text-align: right;\n",
       "    }\n",
       "</style>\n",
       "<table border=\"1\" class=\"dataframe\">\n",
       "  <thead>\n",
       "    <tr style=\"text-align: right;\">\n",
       "      <th></th>\n",
       "      <th>minutes</th>\n",
       "      <th>platform</th>\n",
       "      <th>direction</th>\n",
       "      <th>length</th>\n",
       "      <th>color</th>\n",
       "      <th>hexcolor</th>\n",
       "      <th>bikeflag</th>\n",
       "      <th>delay</th>\n",
       "      <th>cancelflag</th>\n",
       "      <th>dynamicflag</th>\n",
       "    </tr>\n",
       "  </thead>\n",
       "  <tbody>\n",
       "    <tr>\n",
       "      <th>0</th>\n",
       "      <td>5</td>\n",
       "      <td>1</td>\n",
       "      <td>North</td>\n",
       "      <td>6</td>\n",
       "      <td>RED</td>\n",
       "      <td>#ff0000</td>\n",
       "      <td>1</td>\n",
       "      <td>378</td>\n",
       "      <td>0</td>\n",
       "      <td>0</td>\n",
       "    </tr>\n",
       "    <tr>\n",
       "      <th>1</th>\n",
       "      <td>11</td>\n",
       "      <td>1</td>\n",
       "      <td>North</td>\n",
       "      <td>6</td>\n",
       "      <td>ORANGE</td>\n",
       "      <td>#ff9933</td>\n",
       "      <td>1</td>\n",
       "      <td>0</td>\n",
       "      <td>0</td>\n",
       "      <td>0</td>\n",
       "    </tr>\n",
       "    <tr>\n",
       "      <th>2</th>\n",
       "      <td>19</td>\n",
       "      <td>1</td>\n",
       "      <td>North</td>\n",
       "      <td>6</td>\n",
       "      <td>RED</td>\n",
       "      <td>#ff0000</td>\n",
       "      <td>1</td>\n",
       "      <td>0</td>\n",
       "      <td>0</td>\n",
       "      <td>0</td>\n",
       "    </tr>\n",
       "  </tbody>\n",
       "</table>\n",
       "</div>"
      ],
      "text/plain": [
       "  minutes platform direction length   color hexcolor bikeflag delay  \\\n",
       "0       5        1     North      6     RED  #ff0000        1   378   \n",
       "1      11        1     North      6  ORANGE  #ff9933        1     0   \n",
       "2      19        1     North      6     RED  #ff0000        1     0   \n",
       "\n",
       "  cancelflag dynamicflag  \n",
       "0          0           0  \n",
       "1          0           0  \n",
       "2          0           0  "
      ]
     },
     "metadata": {},
     "output_type": "display_data"
    },
    {
     "data": {
      "text/html": [
       "<div>\n",
       "<style scoped>\n",
       "    .dataframe tbody tr th:only-of-type {\n",
       "        vertical-align: middle;\n",
       "    }\n",
       "\n",
       "    .dataframe tbody tr th {\n",
       "        vertical-align: top;\n",
       "    }\n",
       "\n",
       "    .dataframe thead th {\n",
       "        text-align: right;\n",
       "    }\n",
       "</style>\n",
       "<table border=\"1\" class=\"dataframe\">\n",
       "  <thead>\n",
       "    <tr style=\"text-align: right;\">\n",
       "      <th></th>\n",
       "      <th>minutes</th>\n",
       "      <th>platform</th>\n",
       "      <th>direction</th>\n",
       "      <th>length</th>\n",
       "      <th>color</th>\n",
       "      <th>hexcolor</th>\n",
       "      <th>bikeflag</th>\n",
       "      <th>delay</th>\n",
       "      <th>cancelflag</th>\n",
       "      <th>dynamicflag</th>\n",
       "    </tr>\n",
       "  </thead>\n",
       "  <tbody>\n",
       "    <tr>\n",
       "      <th>0</th>\n",
       "      <td>0</td>\n",
       "      <td>2</td>\n",
       "      <td>South</td>\n",
       "      <td>8</td>\n",
       "      <td>YELLOW</td>\n",
       "      <td>#ffff33</td>\n",
       "      <td>1</td>\n",
       "      <td>0</td>\n",
       "      <td>0</td>\n",
       "      <td>0</td>\n",
       "    </tr>\n",
       "    <tr>\n",
       "      <th>1</th>\n",
       "      <td>9</td>\n",
       "      <td>2</td>\n",
       "      <td>South</td>\n",
       "      <td>8</td>\n",
       "      <td>YELLOW</td>\n",
       "      <td>#ffff33</td>\n",
       "      <td>1</td>\n",
       "      <td>0</td>\n",
       "      <td>0</td>\n",
       "      <td>0</td>\n",
       "    </tr>\n",
       "    <tr>\n",
       "      <th>2</th>\n",
       "      <td>21</td>\n",
       "      <td>2</td>\n",
       "      <td>South</td>\n",
       "      <td>8</td>\n",
       "      <td>YELLOW</td>\n",
       "      <td>#ffff33</td>\n",
       "      <td>1</td>\n",
       "      <td>0</td>\n",
       "      <td>0</td>\n",
       "      <td>0</td>\n",
       "    </tr>\n",
       "  </tbody>\n",
       "</table>\n",
       "</div>"
      ],
      "text/plain": [
       "  minutes platform direction length   color hexcolor bikeflag delay  \\\n",
       "0       0        2     South      8  YELLOW  #ffff33        1     0   \n",
       "1       9        2     South      8  YELLOW  #ffff33        1     0   \n",
       "2      21        2     South      8  YELLOW  #ffff33        1     0   \n",
       "\n",
       "  cancelflag dynamicflag  \n",
       "0          0           0  \n",
       "1          0           0  \n",
       "2          0           0  "
      ]
     },
     "metadata": {},
     "output_type": "display_data"
    }
   ],
   "source": [
    "for df in dataframes.values():\n",
    "    display(df)"
   ]
  },
  {
   "cell_type": "code",
   "execution_count": 72,
   "id": "2efa7c70",
   "metadata": {},
   "outputs": [
    {
     "data": {
      "text/plain": [
       "minutes        object\n",
       "platform       object\n",
       "direction      object\n",
       "length         object\n",
       "color          object\n",
       "hexcolor       object\n",
       "bikeflag       object\n",
       "delay          object\n",
       "cancelflag     object\n",
       "dynamicflag    object\n",
       "dtype: object"
      ]
     },
     "execution_count": 72,
     "metadata": {},
     "output_type": "execute_result"
    }
   ],
   "source": [
    "dataframes[\"df_Berryessa\"].dtypes"
   ]
  },
  {
   "cell_type": "code",
   "execution_count": 70,
   "id": "42ec5cab",
   "metadata": {},
   "outputs": [
    {
     "ename": "TypeError",
     "evalue": "unsupported operand type(s) for -: 'str' and 'str'",
     "output_type": "error",
     "traceback": [
      "\u001b[1;31m---------------------------------------------------------------------------\u001b[0m",
      "\u001b[1;31mTypeError\u001b[0m                                 Traceback (most recent call last)",
      "Cell \u001b[1;32mIn[70], line 2\u001b[0m\n\u001b[0;32m      1\u001b[0m \u001b[38;5;28;01mfor\u001b[39;00m df \u001b[38;5;129;01min\u001b[39;00m dataframes\u001b[38;5;241m.\u001b[39mvalues():\n\u001b[1;32m----> 2\u001b[0m     differences \u001b[38;5;241m=\u001b[39m \u001b[43mdf\u001b[49m\u001b[43m[\u001b[49m\u001b[38;5;124;43m\"\u001b[39;49m\u001b[38;5;124;43mminutes\u001b[39;49m\u001b[38;5;124;43m\"\u001b[39;49m\u001b[43m]\u001b[49m\u001b[38;5;241;43m.\u001b[39;49m\u001b[43mdiff\u001b[49m\u001b[43m(\u001b[49m\u001b[43m)\u001b[49m\n\u001b[0;32m      3\u001b[0m     \u001b[38;5;28mprint\u001b[39m(differences)\n",
      "File \u001b[1;32mc:\\Users\\Jordin\\anaconda3\\envs\\uds\\lib\\site-packages\\pandas\\core\\series.py:2903\u001b[0m, in \u001b[0;36mSeries.diff\u001b[1;34m(self, periods)\u001b[0m\n\u001b[0;32m   2818\u001b[0m \u001b[38;5;129m@doc\u001b[39m(\n\u001b[0;32m   2819\u001b[0m     klass\u001b[38;5;241m=\u001b[39m\u001b[38;5;124m\"\u001b[39m\u001b[38;5;124mSeries\u001b[39m\u001b[38;5;124m\"\u001b[39m,\n\u001b[0;32m   2820\u001b[0m     extra_params\u001b[38;5;241m=\u001b[39m\u001b[38;5;124m\"\u001b[39m\u001b[38;5;124m\"\u001b[39m,\n\u001b[1;32m   (...)\u001b[0m\n\u001b[0;32m   2866\u001b[0m )\n\u001b[0;32m   2867\u001b[0m \u001b[38;5;28;01mdef\u001b[39;00m \u001b[38;5;21mdiff\u001b[39m(\u001b[38;5;28mself\u001b[39m, periods: \u001b[38;5;28mint\u001b[39m \u001b[38;5;241m=\u001b[39m \u001b[38;5;241m1\u001b[39m) \u001b[38;5;241m-\u001b[39m\u001b[38;5;241m>\u001b[39m Series:\n\u001b[0;32m   2868\u001b[0m \u001b[38;5;250m    \u001b[39m\u001b[38;5;124;03m\"\"\"\u001b[39;00m\n\u001b[0;32m   2869\u001b[0m \u001b[38;5;124;03m    First discrete difference of element.\u001b[39;00m\n\u001b[0;32m   2870\u001b[0m \n\u001b[1;32m   (...)\u001b[0m\n\u001b[0;32m   2901\u001b[0m \u001b[38;5;124;03m    {examples}\u001b[39;00m\n\u001b[0;32m   2902\u001b[0m \u001b[38;5;124;03m    \"\"\"\u001b[39;00m\n\u001b[1;32m-> 2903\u001b[0m     result \u001b[38;5;241m=\u001b[39m \u001b[43malgorithms\u001b[49m\u001b[38;5;241;43m.\u001b[39;49m\u001b[43mdiff\u001b[49m\u001b[43m(\u001b[49m\u001b[38;5;28;43mself\u001b[39;49m\u001b[38;5;241;43m.\u001b[39;49m\u001b[43m_values\u001b[49m\u001b[43m,\u001b[49m\u001b[43m \u001b[49m\u001b[43mperiods\u001b[49m\u001b[43m)\u001b[49m\n\u001b[0;32m   2904\u001b[0m     \u001b[38;5;28;01mreturn\u001b[39;00m \u001b[38;5;28mself\u001b[39m\u001b[38;5;241m.\u001b[39m_constructor(result, index\u001b[38;5;241m=\u001b[39m\u001b[38;5;28mself\u001b[39m\u001b[38;5;241m.\u001b[39mindex)\u001b[38;5;241m.\u001b[39m__finalize__(\n\u001b[0;32m   2905\u001b[0m         \u001b[38;5;28mself\u001b[39m, method\u001b[38;5;241m=\u001b[39m\u001b[38;5;124m\"\u001b[39m\u001b[38;5;124mdiff\u001b[39m\u001b[38;5;124m\"\u001b[39m\n\u001b[0;32m   2906\u001b[0m     )\n",
      "File \u001b[1;32mc:\\Users\\Jordin\\anaconda3\\envs\\uds\\lib\\site-packages\\pandas\\core\\algorithms.py:1779\u001b[0m, in \u001b[0;36mdiff\u001b[1;34m(arr, n, axis)\u001b[0m\n\u001b[0;32m   1776\u001b[0m     _lag_indexer[axis] \u001b[38;5;241m=\u001b[39m \u001b[38;5;28mslice\u001b[39m(\u001b[38;5;28;01mNone\u001b[39;00m, \u001b[38;5;241m-\u001b[39mn) \u001b[38;5;28;01mif\u001b[39;00m n \u001b[38;5;241m>\u001b[39m \u001b[38;5;241m0\u001b[39m \u001b[38;5;28;01melse\u001b[39;00m \u001b[38;5;28mslice\u001b[39m(\u001b[38;5;241m-\u001b[39mn, \u001b[38;5;28;01mNone\u001b[39;00m)\n\u001b[0;32m   1777\u001b[0m     lag_indexer \u001b[38;5;241m=\u001b[39m \u001b[38;5;28mtuple\u001b[39m(_lag_indexer)\n\u001b[1;32m-> 1779\u001b[0m     out_arr[res_indexer] \u001b[38;5;241m=\u001b[39m \u001b[43mop\u001b[49m\u001b[43m(\u001b[49m\u001b[43marr\u001b[49m\u001b[43m[\u001b[49m\u001b[43mres_indexer\u001b[49m\u001b[43m]\u001b[49m\u001b[43m,\u001b[49m\u001b[43m \u001b[49m\u001b[43marr\u001b[49m\u001b[43m[\u001b[49m\u001b[43mlag_indexer\u001b[49m\u001b[43m]\u001b[49m\u001b[43m)\u001b[49m\n\u001b[0;32m   1781\u001b[0m \u001b[38;5;28;01mif\u001b[39;00m is_timedelta:\n\u001b[0;32m   1782\u001b[0m     out_arr \u001b[38;5;241m=\u001b[39m out_arr\u001b[38;5;241m.\u001b[39mview(\u001b[38;5;124m\"\u001b[39m\u001b[38;5;124mtimedelta64[ns]\u001b[39m\u001b[38;5;124m\"\u001b[39m)\n",
      "\u001b[1;31mTypeError\u001b[0m: unsupported operand type(s) for -: 'str' and 'str'"
     ]
    }
   ],
   "source": [
    "for df in dataframes.values():\n",
    "    differences = df[\"minutes\"].diff()\n",
    "    print(differences)\n",
    "    "
   ]
  },
  {
   "cell_type": "code",
   "execution_count": 42,
   "id": "a8fba930",
   "metadata": {},
   "outputs": [
    {
     "name": "stdout",
     "output_type": "stream",
     "text": [
      "\n",
      "Trains to Berryessa\n"
     ]
    },
    {
     "data": {
      "text/html": [
       "<div>\n",
       "<style scoped>\n",
       "    .dataframe tbody tr th:only-of-type {\n",
       "        vertical-align: middle;\n",
       "    }\n",
       "\n",
       "    .dataframe tbody tr th {\n",
       "        vertical-align: top;\n",
       "    }\n",
       "\n",
       "    .dataframe thead th {\n",
       "        text-align: right;\n",
       "    }\n",
       "</style>\n",
       "<table border=\"1\" class=\"dataframe\">\n",
       "  <thead>\n",
       "    <tr style=\"text-align: right;\">\n",
       "      <th></th>\n",
       "      <th>minutes</th>\n",
       "      <th>platform</th>\n",
       "      <th>direction</th>\n",
       "      <th>length</th>\n",
       "      <th>color</th>\n",
       "      <th>hexcolor</th>\n",
       "      <th>bikeflag</th>\n",
       "      <th>delay</th>\n",
       "      <th>cancelflag</th>\n",
       "      <th>dynamicflag</th>\n",
       "    </tr>\n",
       "  </thead>\n",
       "  <tbody>\n",
       "    <tr>\n",
       "      <th>0</th>\n",
       "      <td>11</td>\n",
       "      <td>2</td>\n",
       "      <td>South</td>\n",
       "      <td>6</td>\n",
       "      <td>ORANGE</td>\n",
       "      <td>#ff9933</td>\n",
       "      <td>1</td>\n",
       "      <td>0</td>\n",
       "      <td>0</td>\n",
       "      <td>0</td>\n",
       "    </tr>\n",
       "    <tr>\n",
       "      <th>1</th>\n",
       "      <td>31</td>\n",
       "      <td>2</td>\n",
       "      <td>South</td>\n",
       "      <td>6</td>\n",
       "      <td>ORANGE</td>\n",
       "      <td>#ff9933</td>\n",
       "      <td>1</td>\n",
       "      <td>0</td>\n",
       "      <td>0</td>\n",
       "      <td>0</td>\n",
       "    </tr>\n",
       "    <tr>\n",
       "      <th>2</th>\n",
       "      <td>51</td>\n",
       "      <td>2</td>\n",
       "      <td>South</td>\n",
       "      <td>6</td>\n",
       "      <td>ORANGE</td>\n",
       "      <td>#ff9933</td>\n",
       "      <td>1</td>\n",
       "      <td>0</td>\n",
       "      <td>0</td>\n",
       "      <td>0</td>\n",
       "    </tr>\n",
       "  </tbody>\n",
       "</table>\n",
       "</div>"
      ],
      "text/plain": [
       "  minutes platform direction length   color hexcolor bikeflag delay  \\\n",
       "0      11        2     South      6  ORANGE  #ff9933        1     0   \n",
       "1      31        2     South      6  ORANGE  #ff9933        1     0   \n",
       "2      51        2     South      6  ORANGE  #ff9933        1     0   \n",
       "\n",
       "  cancelflag dynamicflag  \n",
       "0          0           0  \n",
       "1          0           0  \n",
       "2          0           0  "
      ]
     },
     "metadata": {},
     "output_type": "display_data"
    },
    {
     "name": "stdout",
     "output_type": "stream",
     "text": [
      "\n",
      "Trains to Millbrae\n"
     ]
    },
    {
     "data": {
      "text/html": [
       "<div>\n",
       "<style scoped>\n",
       "    .dataframe tbody tr th:only-of-type {\n",
       "        vertical-align: middle;\n",
       "    }\n",
       "\n",
       "    .dataframe tbody tr th {\n",
       "        vertical-align: top;\n",
       "    }\n",
       "\n",
       "    .dataframe thead th {\n",
       "        text-align: right;\n",
       "    }\n",
       "</style>\n",
       "<table border=\"1\" class=\"dataframe\">\n",
       "  <thead>\n",
       "    <tr style=\"text-align: right;\">\n",
       "      <th></th>\n",
       "      <th>minutes</th>\n",
       "      <th>platform</th>\n",
       "      <th>direction</th>\n",
       "      <th>length</th>\n",
       "      <th>color</th>\n",
       "      <th>hexcolor</th>\n",
       "      <th>bikeflag</th>\n",
       "      <th>delay</th>\n",
       "      <th>cancelflag</th>\n",
       "      <th>dynamicflag</th>\n",
       "    </tr>\n",
       "  </thead>\n",
       "  <tbody>\n",
       "    <tr>\n",
       "      <th>0</th>\n",
       "      <td>16</td>\n",
       "      <td>2</td>\n",
       "      <td>South</td>\n",
       "      <td>6</td>\n",
       "      <td>RED</td>\n",
       "      <td>#ff0000</td>\n",
       "      <td>1</td>\n",
       "      <td>0</td>\n",
       "      <td>0</td>\n",
       "      <td>0</td>\n",
       "    </tr>\n",
       "    <tr>\n",
       "      <th>1</th>\n",
       "      <td>36</td>\n",
       "      <td>2</td>\n",
       "      <td>South</td>\n",
       "      <td>6</td>\n",
       "      <td>RED</td>\n",
       "      <td>#ff0000</td>\n",
       "      <td>1</td>\n",
       "      <td>0</td>\n",
       "      <td>0</td>\n",
       "      <td>0</td>\n",
       "    </tr>\n",
       "    <tr>\n",
       "      <th>2</th>\n",
       "      <td>56</td>\n",
       "      <td>2</td>\n",
       "      <td>South</td>\n",
       "      <td>6</td>\n",
       "      <td>RED</td>\n",
       "      <td>#ff0000</td>\n",
       "      <td>1</td>\n",
       "      <td>0</td>\n",
       "      <td>0</td>\n",
       "      <td>0</td>\n",
       "    </tr>\n",
       "  </tbody>\n",
       "</table>\n",
       "</div>"
      ],
      "text/plain": [
       "  minutes platform direction length color hexcolor bikeflag delay cancelflag  \\\n",
       "0      16        2     South      6   RED  #ff0000        1     0          0   \n",
       "1      36        2     South      6   RED  #ff0000        1     0          0   \n",
       "2      56        2     South      6   RED  #ff0000        1     0          0   \n",
       "\n",
       "  dynamicflag  \n",
       "0           0  \n",
       "1           0  \n",
       "2           0  "
      ]
     },
     "metadata": {},
     "output_type": "display_data"
    },
    {
     "name": "stdout",
     "output_type": "stream",
     "text": [
      "\n",
      "Trains to Pittsburg/Bay Point\n"
     ]
    },
    {
     "data": {
      "text/html": [
       "<div>\n",
       "<style scoped>\n",
       "    .dataframe tbody tr th:only-of-type {\n",
       "        vertical-align: middle;\n",
       "    }\n",
       "\n",
       "    .dataframe tbody tr th {\n",
       "        vertical-align: top;\n",
       "    }\n",
       "\n",
       "    .dataframe thead th {\n",
       "        text-align: right;\n",
       "    }\n",
       "</style>\n",
       "<table border=\"1\" class=\"dataframe\">\n",
       "  <thead>\n",
       "    <tr style=\"text-align: right;\">\n",
       "      <th></th>\n",
       "      <th>minutes</th>\n",
       "      <th>platform</th>\n",
       "      <th>direction</th>\n",
       "      <th>length</th>\n",
       "      <th>color</th>\n",
       "      <th>hexcolor</th>\n",
       "      <th>bikeflag</th>\n",
       "      <th>delay</th>\n",
       "      <th>cancelflag</th>\n",
       "      <th>dynamicflag</th>\n",
       "    </tr>\n",
       "  </thead>\n",
       "  <tbody>\n",
       "    <tr>\n",
       "      <th>0</th>\n",
       "      <td>3</td>\n",
       "      <td>3</td>\n",
       "      <td>North</td>\n",
       "      <td>8</td>\n",
       "      <td>YELLOW</td>\n",
       "      <td>#ffff33</td>\n",
       "      <td>1</td>\n",
       "      <td>0</td>\n",
       "      <td>0</td>\n",
       "      <td>0</td>\n",
       "    </tr>\n",
       "    <tr>\n",
       "      <th>1</th>\n",
       "      <td>22</td>\n",
       "      <td>3</td>\n",
       "      <td>North</td>\n",
       "      <td>8</td>\n",
       "      <td>YELLOW</td>\n",
       "      <td>#ffff33</td>\n",
       "      <td>1</td>\n",
       "      <td>0</td>\n",
       "      <td>0</td>\n",
       "      <td>0</td>\n",
       "    </tr>\n",
       "    <tr>\n",
       "      <th>2</th>\n",
       "      <td>42</td>\n",
       "      <td>3</td>\n",
       "      <td>North</td>\n",
       "      <td>8</td>\n",
       "      <td>YELLOW</td>\n",
       "      <td>#ffff33</td>\n",
       "      <td>1</td>\n",
       "      <td>0</td>\n",
       "      <td>0</td>\n",
       "      <td>0</td>\n",
       "    </tr>\n",
       "  </tbody>\n",
       "</table>\n",
       "</div>"
      ],
      "text/plain": [
       "  minutes platform direction length   color hexcolor bikeflag delay  \\\n",
       "0       3        3     North      8  YELLOW  #ffff33        1     0   \n",
       "1      22        3     North      8  YELLOW  #ffff33        1     0   \n",
       "2      42        3     North      8  YELLOW  #ffff33        1     0   \n",
       "\n",
       "  cancelflag dynamicflag  \n",
       "0          0           0  \n",
       "1          0           0  \n",
       "2          0           0  "
      ]
     },
     "metadata": {},
     "output_type": "display_data"
    },
    {
     "name": "stdout",
     "output_type": "stream",
     "text": [
      "\n",
      "Trains to Richmond\n"
     ]
    },
    {
     "data": {
      "text/html": [
       "<div>\n",
       "<style scoped>\n",
       "    .dataframe tbody tr th:only-of-type {\n",
       "        vertical-align: middle;\n",
       "    }\n",
       "\n",
       "    .dataframe tbody tr th {\n",
       "        vertical-align: top;\n",
       "    }\n",
       "\n",
       "    .dataframe thead th {\n",
       "        text-align: right;\n",
       "    }\n",
       "</style>\n",
       "<table border=\"1\" class=\"dataframe\">\n",
       "  <thead>\n",
       "    <tr style=\"text-align: right;\">\n",
       "      <th></th>\n",
       "      <th>minutes</th>\n",
       "      <th>platform</th>\n",
       "      <th>direction</th>\n",
       "      <th>length</th>\n",
       "      <th>color</th>\n",
       "      <th>hexcolor</th>\n",
       "      <th>bikeflag</th>\n",
       "      <th>delay</th>\n",
       "      <th>cancelflag</th>\n",
       "      <th>dynamicflag</th>\n",
       "    </tr>\n",
       "  </thead>\n",
       "  <tbody>\n",
       "    <tr>\n",
       "      <th>0</th>\n",
       "      <td>5</td>\n",
       "      <td>1</td>\n",
       "      <td>North</td>\n",
       "      <td>6</td>\n",
       "      <td>RED</td>\n",
       "      <td>#ff0000</td>\n",
       "      <td>1</td>\n",
       "      <td>378</td>\n",
       "      <td>0</td>\n",
       "      <td>0</td>\n",
       "    </tr>\n",
       "    <tr>\n",
       "      <th>1</th>\n",
       "      <td>11</td>\n",
       "      <td>1</td>\n",
       "      <td>North</td>\n",
       "      <td>6</td>\n",
       "      <td>ORANGE</td>\n",
       "      <td>#ff9933</td>\n",
       "      <td>1</td>\n",
       "      <td>0</td>\n",
       "      <td>0</td>\n",
       "      <td>0</td>\n",
       "    </tr>\n",
       "    <tr>\n",
       "      <th>2</th>\n",
       "      <td>19</td>\n",
       "      <td>1</td>\n",
       "      <td>North</td>\n",
       "      <td>6</td>\n",
       "      <td>RED</td>\n",
       "      <td>#ff0000</td>\n",
       "      <td>1</td>\n",
       "      <td>0</td>\n",
       "      <td>0</td>\n",
       "      <td>0</td>\n",
       "    </tr>\n",
       "  </tbody>\n",
       "</table>\n",
       "</div>"
      ],
      "text/plain": [
       "  minutes platform direction length   color hexcolor bikeflag delay  \\\n",
       "0       5        1     North      6     RED  #ff0000        1   378   \n",
       "1      11        1     North      6  ORANGE  #ff9933        1     0   \n",
       "2      19        1     North      6     RED  #ff0000        1     0   \n",
       "\n",
       "  cancelflag dynamicflag  \n",
       "0          0           0  \n",
       "1          0           0  \n",
       "2          0           0  "
      ]
     },
     "metadata": {},
     "output_type": "display_data"
    },
    {
     "name": "stdout",
     "output_type": "stream",
     "text": [
      "\n",
      "Trains to SF Airport\n"
     ]
    },
    {
     "data": {
      "text/html": [
       "<div>\n",
       "<style scoped>\n",
       "    .dataframe tbody tr th:only-of-type {\n",
       "        vertical-align: middle;\n",
       "    }\n",
       "\n",
       "    .dataframe tbody tr th {\n",
       "        vertical-align: top;\n",
       "    }\n",
       "\n",
       "    .dataframe thead th {\n",
       "        text-align: right;\n",
       "    }\n",
       "</style>\n",
       "<table border=\"1\" class=\"dataframe\">\n",
       "  <thead>\n",
       "    <tr style=\"text-align: right;\">\n",
       "      <th></th>\n",
       "      <th>minutes</th>\n",
       "      <th>platform</th>\n",
       "      <th>direction</th>\n",
       "      <th>length</th>\n",
       "      <th>color</th>\n",
       "      <th>hexcolor</th>\n",
       "      <th>bikeflag</th>\n",
       "      <th>delay</th>\n",
       "      <th>cancelflag</th>\n",
       "      <th>dynamicflag</th>\n",
       "    </tr>\n",
       "  </thead>\n",
       "  <tbody>\n",
       "    <tr>\n",
       "      <th>0</th>\n",
       "      <td>Leaving</td>\n",
       "      <td>2</td>\n",
       "      <td>South</td>\n",
       "      <td>8</td>\n",
       "      <td>YELLOW</td>\n",
       "      <td>#ffff33</td>\n",
       "      <td>1</td>\n",
       "      <td>0</td>\n",
       "      <td>0</td>\n",
       "      <td>0</td>\n",
       "    </tr>\n",
       "    <tr>\n",
       "      <th>1</th>\n",
       "      <td>9</td>\n",
       "      <td>2</td>\n",
       "      <td>South</td>\n",
       "      <td>8</td>\n",
       "      <td>YELLOW</td>\n",
       "      <td>#ffff33</td>\n",
       "      <td>1</td>\n",
       "      <td>0</td>\n",
       "      <td>0</td>\n",
       "      <td>0</td>\n",
       "    </tr>\n",
       "    <tr>\n",
       "      <th>2</th>\n",
       "      <td>21</td>\n",
       "      <td>2</td>\n",
       "      <td>South</td>\n",
       "      <td>8</td>\n",
       "      <td>YELLOW</td>\n",
       "      <td>#ffff33</td>\n",
       "      <td>1</td>\n",
       "      <td>0</td>\n",
       "      <td>0</td>\n",
       "      <td>0</td>\n",
       "    </tr>\n",
       "  </tbody>\n",
       "</table>\n",
       "</div>"
      ],
      "text/plain": [
       "   minutes platform direction length   color hexcolor bikeflag delay  \\\n",
       "0  Leaving        2     South      8  YELLOW  #ffff33        1     0   \n",
       "1        9        2     South      8  YELLOW  #ffff33        1     0   \n",
       "2       21        2     South      8  YELLOW  #ffff33        1     0   \n",
       "\n",
       "  cancelflag dynamicflag  \n",
       "0          0           0  \n",
       "1          0           0  \n",
       "2          0           0  "
      ]
     },
     "metadata": {},
     "output_type": "display_data"
    }
   ],
   "source": [
    "for e in etd:\n",
    "    print('\\nTrains to {}'.format(e['destination']))\n",
    "    display(pd.DataFrame(e['estimate']))"
   ]
  },
  {
   "cell_type": "markdown",
   "id": "0e530588",
   "metadata": {},
   "source": [
    "<div class=\"alert alert-block alert-info\">\n",
    "<strong>Let's recap.</strong> What did we just do?\n",
    "<ul>  \n",
    "<li>We constructed a text string following the API documentation, and passed that string to `requests`</li>\n",
    "<li>We did some step-by-step detective work to convert the output into a usable format</li>\n",
    "</uli>\n",
    "</div>"
   ]
  },
  {
   "cell_type": "markdown",
   "id": "3ea68948",
   "metadata": {},
   "source": [
    "Let's focus on the first step, and try more commands from the BART API, [such as returning fare information](https://api.bart.gov/docs/sched/fare.aspx).\n",
    "\n",
    "We see that the string begins like this:\n",
    "\n",
    "`http://api.bart.gov/api/sched.aspx?cmd=fare`\n",
    "\n",
    "Then we add the various inputs separated by `&`.\n",
    "\n",
    "For example, the fare from `12TH` to `CIVC` is as follows."
   ]
  },
  {
   "cell_type": "code",
   "execution_count": null,
   "id": "4d7e032a",
   "metadata": {},
   "outputs": [],
   "source": [
    "requestString = 'http://api.bart.gov/api/sched.aspx?&origcmd=fare=12TH&dest=CIVC&key={}&json=y'.format(APIkey)\n",
    "r = requests.get(requestString)\n",
    "print(r.text)"
   ]
  },
  {
   "cell_type": "markdown",
   "id": "e96831ea",
   "metadata": {},
   "source": [
    "Note that the output is the same as if you paste the string into a web browser."
   ]
  },
  {
   "cell_type": "code",
   "execution_count": null,
   "id": "4618a417",
   "metadata": {},
   "outputs": [],
   "source": [
    "print(requestString)"
   ]
  },
  {
   "cell_type": "markdown",
   "id": "be878b25",
   "metadata": {},
   "source": [
    "An alternative and more elegant way of calling requests is to put all the inputs (parameters) into a dictionary. This version is identical to the previous API call."
   ]
  },
  {
   "cell_type": "code",
   "execution_count": null,
   "id": "1ef2ba70",
   "metadata": {},
   "outputs": [],
   "source": [
    "requestString = 'http://api.bart.gov/api/sched.aspx'\n",
    "params = {'cmd':'fare',\n",
    "          'orig':'12TH',\n",
    "          'dest':'CIVC',\n",
    "          'key':APIkey,\n",
    "          'json':'y'}\n",
    "r = requests.get(requestString, params=params)\n",
    "print(r.text)"
   ]
  },
  {
   "cell_type": "markdown",
   "id": "9c523b6e",
   "metadata": {},
   "source": [
    "<div class=\"alert alert-block alert-info\">\n",
    "<strong>Exercise:</strong> Explore some of BART's other API collections at the same link above\n",
    "</div>"
   ]
  },
  {
   "cell_type": "markdown",
   "id": "excellent-spank",
   "metadata": {},
   "source": [
    "<div class=\"alert alert-block alert-info\">\n",
    "<h3>Key Takeaways</h3>\n",
    "<ul>\n",
    "  <li>Many APIs are just URLs. You can compose the URL as a string.</li>\n",
    "  <li>JSON is the typical format of the returned data, but you will often need to experiment.</li>\n",
    "  <li>Be nice! Some APIs will ask you to register. Most will kick you off if you make too many requests.</li>\n",
    "</ul>\n",
    "</div>"
   ]
  }
 ],
 "metadata": {
  "kernelspec": {
   "display_name": "uds",
   "language": "python",
   "name": "python3"
  },
  "language_info": {
   "codemirror_mode": {
    "name": "ipython",
    "version": 3
   },
   "file_extension": ".py",
   "mimetype": "text/x-python",
   "name": "python",
   "nbconvert_exporter": "python",
   "pygments_lexer": "ipython3",
   "version": "3.9.16"
  },
  "livereveal": {
   "height": "90%",
   "scroll": true,
   "width": "90%"
  }
 },
 "nbformat": 4,
 "nbformat_minor": 5
}
